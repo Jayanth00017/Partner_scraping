{
 "cells": [
  {
   "cell_type": "code",
   "execution_count": 57,
   "id": "ffc59631",
   "metadata": {},
   "outputs": [],
   "source": [
    "import pandas as pd\n",
    "from bs4 import BeautifulSoup\n",
    "import requests\n",
    "import urllib.request"
   ]
  },
  {
   "cell_type": "code",
   "execution_count": 58,
   "id": "c83860be",
   "metadata": {
    "scrolled": true
   },
   "outputs": [
    {
     "data": {
      "text/plain": [
       "<bound method DataFrame.info of Empty DataFrame\n",
       "Columns: [title, learn_type, topics, skills, description, cover_image, cover_video, embedded_video_url, delivery_method, instruction_type, content, what_will_learn, prerequisites, target_students, instructor|1|name, instructor|1|designation, instructor|1|instructor_bio, instructor|1|linkedin_url, instructor|1|facebook_url, instructor|1|twitter_url, instructor|1|instructor_image, instructor|2|name, instructor|2|designation, instructor|2|instructor_bio, instructor|2|linkedin_url, instructor|2|facebook_url, instructor|2|twitter_url, instructor|2|instructor_image, review|1|reviewer_name, review|1|photo, review|1|review_date, review|1|review, review|1|rating, review|2|reviewer_name, review|2|photo, review|2|review_date, review|2|review, review|2|rating, total_duration, total_duration_unit, total_video_content, total_video_content_unit, recommended_effort_per_week, avg_session_duration_with_instructor, batch|1|batch_size, batch|1|batch_start_date, batch|1|batch_end_date, batch|2|batch_size, batch|2|batch_start_date, batch|2|batch_end_date, enrollment_start_date, enrollment_end_date, level, languages, short_description, subtitle_languages, accessibilities, availabilities, Display Price, pricing_type, currency, regular_price, sale_price, additional_pricing_details, course_financing_available, indian_students_program_fee, indian_students_payment_deadline, indian_students_GST_included, indian_student_installments|1|installment_amount, indian_student_installments|1|payment_deadline, indian_student_installments|2|installment_amount, indian_student_installments|2|payment_deadline, international_students_program_fee, international_students_payment_deadline, international_student_installments|1|installment_amount, international_student_installments|1|payment_deadline, international_student_installments|2|installment_amount, international_student_installments|2|payment_deadline, institute, partner_course_url, corporate_sponsor|1|name, corporate_sponsor|1|logo, corporate_sponsor|2|name, corporate_sponsor|2|logo, accreditation|1|name, accreditation|1|logo, accreditation|1|description, accreditation|2|name, accreditation|2|logo, accreditation|2|description, assessment_content, post_course_interaction, international_faculty, human_interaction, personalized_teaching, live_class, job_assistance, internship, alumni_network, placement|1|company_name, ...]\n",
       "Index: []\n",
       "\n",
       "[0 rows x 120 columns]>"
      ]
     },
     "execution_count": 58,
     "metadata": {},
     "output_type": "execute_result"
    }
   ],
   "source": [
    "op=pd.DataFrame(pd.read_csv(\"output.csv\"))\n",
    "op.info"
   ]
  },
  {
   "cell_type": "code",
   "execution_count": 59,
   "id": "649f176f",
   "metadata": {},
   "outputs": [],
   "source": [
    "links=[\"https://www.learningroutes.in/marketing-management/\",\"https://www.learningroutes.in/financial-management/\",\"https://www.learningroutes.in/business-management/\",\"https://www.learningroutes.in/mba-human-resource-management/\",\"https://www.learningroutes.in/mba-international-trade-management/\",\"https://www.learningroutes.in/mba-banking-and-finance-management/\",\"https://www.learningroutes.in/mba-supply-chain-management/\",\"https://www.learningroutes.in/mba-operations-management/\",\"https://www.learningroutes.in/mba-retail-management/\",\"https://www.learningroutes.in/mba-information-technology-and-systems-management/\",\"https://www.learningroutes.in/online-bachelor-in-business-administration-bba/\",\"https://www.learningroutes.in/online-bachelor-of-commerce-b-com/\",\"https://www.learningroutes.in/mba-for-working-executives/\",\"https://www.learningroutes.in/m-sc-in-artificial-intelligence-and-machine-learning/\",\"https://www.learningroutes.in/m-sc-in-applied-finance/\",\"https://www.learningroutes.in/online-diploma-course-in-supply-chain-management/\",\"https://www.learningroutes.in/online-diploma-course-in-operations-management/\",\"https://www.learningroutes.in/online-diploma-course-in-marketing-management/\",\"https://www.learningroutes.in/online-diploma-course-in-international-trade-management/\",\"https://www.learningroutes.in/online-diploma-course-in-human-resource-management/\",\"https://www.learningroutes.in/online-diploma-course-in-financial-management/\",\"https://www.learningroutes.in/online-diploma-course-in-business-management/\",\"https://www.learningroutes.in/online-certification-program-in-corporate-communications/\",\"https://www.learningroutes.in/online-certification-program-in-it-management/\",\"https://www.learningroutes.in/certification-program-in-business-management/\",\"https://www.learningroutes.in/online-certification-program-in-project-management/\",\"https://www.learningroutes.in/online-certification-program-in-operations-management/\",\"https://www.learningroutes.in/online-professional-diploma-in-digital-marketing-in-partnership-with-stukent/\",\"https://www.learningroutes.in/online-professional-diploma-in-wealth-management/\"]\n"
   ]
  },
  {
   "cell_type": "code",
   "execution_count": 60,
   "id": "80eb5469",
   "metadata": {},
   "outputs": [],
   "source": [
    "html_content=[]\n",
    "soup=[]\n",
    "for i in range (len(links)):\n",
    "    html_content.append(requests.get(links[i]).text)\n",
    "    soup.append(BeautifulSoup(html_content[i], \"lxml\"))"
   ]
  },
  {
   "cell_type": "code",
   "execution_count": 61,
   "id": "a737edca",
   "metadata": {},
   "outputs": [],
   "source": [
    "titles=[]\n",
    "for i in soup:\n",
    "    titles.append(i.title.text)\n",
    "op[\"title\"]=titles"
   ]
  },
  {
   "cell_type": "code",
   "execution_count": 62,
   "id": "07446dc4",
   "metadata": {},
   "outputs": [],
   "source": [
    "learn_type=[]\n",
    "for i in titles:\n",
    "    if(i.find(\"MBA\")>=1):\n",
    "        learn_type.append(\"Degree\")\n",
    "    elif(i.find(\"Degree\")>=1):\n",
    "        learn_type.append(\"Degree\")\n",
    "    elif(i.find(\"Bachelor of\")>=1):\n",
    "        learn_type.append(\"Degree\")\n",
    "    elif(i.find(\"Diploma\")>=1):\n",
    "        learn_type.append(\"Degree\")\n",
    "    elif(i.find(\"Certification\")>=1):\n",
    "        learn_type.append(\"Certification\")\n",
    "    else:\n",
    "        learn_type.append(\"Degree\")\n",
    "    \n",
    "op[\"learn_type\"]=learn_type"
   ]
  },
  {
   "cell_type": "code",
   "execution_count": 63,
   "id": "62699402",
   "metadata": {},
   "outputs": [],
   "source": [
    "topics=[]\n",
    "for i in soup:\n",
    "    table = i.find(lambda tag: tag.name=='table') \n",
    "    rows = table.findAll(lambda tag: tag.name=='tr')\n",
    "    cont=[]\n",
    "    for j in rows:\n",
    "        cont.append(j.text.replace(\"\\n\",\" \").replace(\"Subjects Credits\",\"\"))\n",
    "        \n",
    "    topics.append(cont)\n",
    "op[\"topics\"]=topics"
   ]
  },
  {
   "cell_type": "code",
   "execution_count": 64,
   "id": "4cfae133",
   "metadata": {},
   "outputs": [],
   "source": [
    "description=[]\n",
    "for i in soup:\n",
    "    try:\n",
    "        description.append(i.find(class_=\"ul1\").text)\n",
    "    except:\n",
    "        temp=[]\n",
    "        z=(i.find(class_=\"vc_tta-panel vc_active\",id=\"1621916199020-bab15d00-a80a\").findAll(\"p\"))\n",
    "        for t in z:\n",
    "            temp.append(t.text)\n",
    "        description.append(temp)\n",
    "op[\"description\"]=description"
   ]
  },
  {
   "cell_type": "code",
   "execution_count": 65,
   "id": "aa0cbe0b",
   "metadata": {},
   "outputs": [],
   "source": [
    "cover_image=[]\n",
    "for i in range(len(soup)):\n",
    "    img_url = soup[i].find(class_=\"width-logo table-cell sm-logo\")\n",
    "    images=img_url.find('img')\n",
    "    img=images['src']\n",
    "    cover_image.append(img)\n",
    "op[\"cover_image\"]=cover_image"
   ]
  },
  {
   "cell_type": "code",
   "execution_count": 66,
   "id": "f051e226",
   "metadata": {},
   "outputs": [],
   "source": [
    "delivery_method=[]\n",
    "for i in soup:\n",
    "    if(i.text.find(\"live-interactive\")>=1):\n",
    "        delivery_method.append(\"Online\")\n",
    "    elif(i.text.find(\"Online\")>=1):\n",
    "        delivery_method.append(\"Online\")\n",
    "    elif(i.text.find(\"Online\" and \"Offline\")>=1):\n",
    "        delivery_method.append(\"Online+Offline\")\n",
    "    else:\n",
    "        delivery_method.append(\"In-Class\")\n",
    "op[\"delivery_method\"]=delivery_method"
   ]
  },
  {
   "cell_type": "code",
   "execution_count": 67,
   "id": "75aa4534",
   "metadata": {},
   "outputs": [],
   "source": [
    "instruction_type=[]\n",
    "for i in soup:\n",
    "    if(i.text.find(\"recorded\")>=1):\n",
    "        instruction_type.append(\"Self Paced\")\n",
    "    else:\n",
    "        instruction_type.append(\"Instructor Paced\")\n",
    "op[\"instruction_type\"]=instruction_type   "
   ]
  },
  {
   "cell_type": "code",
   "execution_count": 68,
   "id": "e5ee17af",
   "metadata": {},
   "outputs": [],
   "source": [
    "what_will_learn=[]\n",
    "for i in soup:\n",
    "    try:\n",
    "        what_will_learn.append(i.find(\"ul\",class_=\"ul1\").find_next(\"ul\").text.replace(\",\",\"|\").replace(\"\\n\",\" \").replace(\"\\xa0\",\" \"))\n",
    "        \n",
    "    except:\n",
    "        \n",
    "        z=(i.find(class_=\"vc_tta-panel vc_active\",id=\"1621916199020-bab15d00-a80a\").findAll(\"ul\"))\n",
    "        for w in z:\n",
    "            what_will_learn.append(t.text.replace(\",\",\"|\").replace(\"\\n\",\" \").replace(\"\\xa0\",\" \"))\n",
    "\n",
    "op[\"what_will_learn\"]=what_will_learn\n"
   ]
  },
  {
   "cell_type": "code",
   "execution_count": 69,
   "id": "b79e3644",
   "metadata": {},
   "outputs": [],
   "source": [
    "prerequisites=[]\n",
    "for i in range(len(soup)):\n",
    "    if(i==15):\n",
    "        prerequisites.append(soup[i].find(id=\"1621916691287-53d6de8a-56c7\").find(\"ul\").find(\"ul\").text.replace(\"\\n\",\" \").replace(\"\\xa0\",\" \"))\n",
    "        \n",
    "    elif(i==17):\n",
    "        prerequisites.append(soup[i].find(id=\"1621916691287-53d6de8a-56c7\").find(\"ul\").find(\"ul\").text.replace(\"\\n\",\" \").replace(\"\\xa0\",\" \"))\n",
    "        \n",
    "    elif(i==18):\n",
    "        prerequisites.append(soup[i].find(id=\"1621916691287-53d6de8a-56c7\").find(\"ul\").find(\"ul\").text.replace(\"\\n\",\" \").replace(\"\\xa0\",\" \"))\n",
    "        \n",
    "    else:\n",
    "        prerequisites.append(soup[i].find(id=\"1621916691287-53d6de8a-56c7\").find(\"ul\").text.replace(\"\\n\",\" \").replace(\"\\xa0\",\" \"))\n",
    "\n",
    "op[\"prerequisites\"]=prerequisites "
   ]
  },
  {
   "cell_type": "code",
   "execution_count": 70,
   "id": "0fffd324",
   "metadata": {},
   "outputs": [],
   "source": [
    "institute=[]\n",
    "for i in titles:\n",
    "    if(i.find(\"NMIMS\")>=0):\n",
    "        institute.append(\"NMIMS\")\n",
    "    else:\n",
    "        institute.append(\"Learning Routes\")\n",
    "op[\"institute\"]=institute"
   ]
  },
  {
   "cell_type": "code",
   "execution_count": 71,
   "id": "51a6cd22",
   "metadata": {},
   "outputs": [],
   "source": [
    "op[\"partner_course_url\"]=links"
   ]
  },
  {
   "cell_type": "code",
   "execution_count": 72,
   "id": "a353986e",
   "metadata": {},
   "outputs": [],
   "source": [
    "live_class=[]\n",
    "for i in instruction_type:\n",
    "    if(i==\"Instructor Paced\"):\n",
    "        live_class.append(\"True\")\n",
    "    else:\n",
    "        live_class.append(\"False\")\n",
    "op[\"live_class\"]=live_class"
   ]
  },
  {
   "cell_type": "code",
   "execution_count": 73,
   "id": "db985cd0",
   "metadata": {},
   "outputs": [],
   "source": [
    "disp_price=[]\n",
    "for i in soup:\n",
    "    if(i.text.find(\"Fee\")>=1):\n",
    "        disp_price.append(\"True\")\n",
    "    else:\n",
    "        disp_price.append(\"False\")\n",
    "op[\"Display Price\"]=disp_price"
   ]
  },
  {
   "cell_type": "code",
   "execution_count": 74,
   "id": "8edb4708",
   "metadata": {},
   "outputs": [],
   "source": [
    "regular_price=[]\n",
    "for i in range(len(soup)) :\n",
    "    try:\n",
    "        if(i==11):\n",
    "            regular_price.append(\"94,000\")\n",
    "        elif(i==27):\n",
    "            regular_price.append(\"60,000\")\n",
    "        elif(i==28):\n",
    "            regular_price.append(\"60,000\")\n",
    "        else:\n",
    "            u=(soup[i].find(id=\"1621916691287-53d6de8a-56c7\").find(\"h3\").text.split(\" \"))\n",
    "            regular_price.append(u[0])\n",
    "    except:\n",
    "        regular_price.append(\"\")\n",
    "op[\"regular_price\"]=regular_price\n"
   ]
  },
  {
   "cell_type": "code",
   "execution_count": 75,
   "id": "3fc42c32",
   "metadata": {},
   "outputs": [],
   "source": [
    "additional_pricing_details=[]\n",
    "rn=[12,14,15,16,17,18,19,20,21,22,23,24,25,26]\n",
    "for i in range(len(soup)):\n",
    "    if(i in rn):\n",
    "        additional_pricing_details.append(soup[i].find(id=\"1621916691287-53d6de8a-56c7\").find(\"ul\").find_next(\"ul\").find_next(\"ul\").text.replace(\"\\n\",\" \").replace(\"\\xa0\",\" \"))\n",
    "    else:\n",
    "        additional_pricing_details.append(soup[i].find(id=\"1621916691287-53d6de8a-56c7\").find(\"ul\").find_next(\"ul\").text.replace(\"\\n\",\" \").replace(\"\\xa0\",\" \"))\n",
    "op[\"additional_pricing_details\"]=additional_pricing_details"
   ]
  },
  {
   "cell_type": "code",
   "execution_count": 76,
   "id": "6be03026",
   "metadata": {},
   "outputs": [],
   "source": [
    "capstone_project=[]\n",
    "for i in range(len(soup)):\n",
    "    if(soup[i].text.find(\"Capstone\")>=1):\n",
    "        capstone_project.append(\"True\")\n",
    "    else:\n",
    "        capstone_project.append(\"False\")\n",
    "op[\"capstone_project\"]=capstone_project"
   ]
  },
  {
   "cell_type": "code",
   "execution_count": 77,
   "id": "1a3b0150",
   "metadata": {},
   "outputs": [],
   "source": [
    "case_based_learning=[]\n",
    "for i in range(len(soup)):\n",
    "    if(soup[i].text.find(\"case study\")>=1):\n",
    "        case_based_learning.append(\"True\")\n",
    "    else:\n",
    "        case_based_learning.append(\"False\")\n",
    "op[\"case_based_learning\"]=case_based_learning"
   ]
  },
  {
   "cell_type": "code",
   "execution_count": 79,
   "id": "dfbc60ab",
   "metadata": {},
   "outputs": [],
   "source": [
    "op.to_excel(\"Learning_Route.xlsx\")"
   ]
  },
  {
   "cell_type": "code",
   "execution_count": null,
   "id": "2547b7c0",
   "metadata": {},
   "outputs": [],
   "source": []
  }
 ],
 "metadata": {
  "kernelspec": {
   "display_name": "Python 3 (ipykernel)",
   "language": "python",
   "name": "python3"
  },
  "language_info": {
   "codemirror_mode": {
    "name": "ipython",
    "version": 3
   },
   "file_extension": ".py",
   "mimetype": "text/x-python",
   "name": "python",
   "nbconvert_exporter": "python",
   "pygments_lexer": "ipython3",
   "version": "3.9.6"
  }
 },
 "nbformat": 4,
 "nbformat_minor": 5
}
