{
  "nbformat": 4,
  "nbformat_minor": 0,
  "metadata": {
    "colab": {
      "name": "Treehouse.ipynb",
      "provenance": [],
      "collapsed_sections": []
    },
    "kernelspec": {
      "name": "python3",
      "display_name": "Python 3"
    },
    "language_info": {
      "name": "python"
    }
  },
  "cells": [
    {
      "cell_type": "code",
      "metadata": {
        "colab": {
          "base_uri": "https://localhost:8080/"
        },
        "id": "Joe-rZQqGFDd",
        "outputId": "1c7f5556-b541-48cf-ece5-d6f13fda699a"
      },
      "source": [
        "!pip install requests\n",
        "!pip install bs4\n",
        "!pip install html5lib\n",
        "!pip install kora -q"
      ],
      "execution_count": null,
      "outputs": [
        {
          "output_type": "stream",
          "name": "stdout",
          "text": [
            "Requirement already satisfied: requests in /usr/local/lib/python3.7/dist-packages (2.23.0)\n",
            "Requirement already satisfied: urllib3!=1.25.0,!=1.25.1,<1.26,>=1.21.1 in /usr/local/lib/python3.7/dist-packages (from requests) (1.24.3)\n",
            "Requirement already satisfied: idna<3,>=2.5 in /usr/local/lib/python3.7/dist-packages (from requests) (2.10)\n",
            "Requirement already satisfied: chardet<4,>=3.0.2 in /usr/local/lib/python3.7/dist-packages (from requests) (3.0.4)\n",
            "Requirement already satisfied: certifi>=2017.4.17 in /usr/local/lib/python3.7/dist-packages (from requests) (2021.5.30)\n",
            "Requirement already satisfied: bs4 in /usr/local/lib/python3.7/dist-packages (0.0.1)\n",
            "Requirement already satisfied: beautifulsoup4 in /usr/local/lib/python3.7/dist-packages (from bs4) (4.6.3)\n",
            "Requirement already satisfied: html5lib in /usr/local/lib/python3.7/dist-packages (1.0.1)\n",
            "Requirement already satisfied: webencodings in /usr/local/lib/python3.7/dist-packages (from html5lib) (0.5.1)\n",
            "Requirement already satisfied: six>=1.9 in /usr/local/lib/python3.7/dist-packages (from html5lib) (1.15.0)\n",
            "\u001b[K     |████████████████████████████████| 57 kB 2.9 MB/s \n",
            "\u001b[K     |████████████████████████████████| 56 kB 4.0 MB/s \n",
            "\u001b[?25h"
          ]
        }
      ]
    },
    {
      "cell_type": "code",
      "metadata": {
        "id": "IpGYi2uRGNrL"
      },
      "source": [
        "import requests\n",
        "import re\n",
        "from bs4 import BeautifulSoup\n",
        "from kora.selenium import wd"
      ],
      "execution_count": null,
      "outputs": []
    },
    {
      "cell_type": "code",
      "metadata": {
        "id": "4nb7TYgWtJZ5"
      },
      "source": [
        "prl = 'https://teamtreehouse.com/library/designing-interfaces-in-php'\n",
        "wd.get(prl)"
      ],
      "execution_count": null,
      "outputs": []
    },
    {
      "cell_type": "code",
      "metadata": {
        "colab": {
          "base_uri": "https://localhost:8080/"
        },
        "id": "aqAhf43RGPwI",
        "outputId": "2d8bb90c-8631-4569-f152-bbfd29c70c94"
      },
      "source": [
        "r = requests.get(prl)\n",
        "htmlContent = r.content\n",
        "soup = BeautifulSoup(htmlContent, 'html.parser')\n",
        "title = soup.title\n",
        "print(title.string)"
      ],
      "execution_count": null,
      "outputs": [
        {
          "output_type": "stream",
          "name": "stdout",
          "text": [
            "Designing Interfaces in PHP Course (How To) | Treehouse\n"
          ]
        }
      ]
    },
    {
      "cell_type": "code",
      "metadata": {
        "colab": {
          "base_uri": "https://localhost:8080/"
        },
        "id": "U9zmOq6btlKm",
        "outputId": "044c2b20-d7b1-4972-86a1-97311f5990f9"
      },
      "source": [
        "content =[]\n",
        "pri=(wd.find_elements_by_class_name(\"stage-meta\"))\n",
        "for j in pri:\n",
        "        prnt=(j.text.replace(\":\",\"\").replace(\"questions\",\"\").replace(\"\\n\",\"|\"))\n",
        "        res = ''.join([i for i in prnt if not i.isdigit()])\n",
        "        content.append(res)\n",
        "content"
      ],
      "execution_count": null,
      "outputs": [
        {
          "output_type": "execute_result",
          "data": {
            "text/plain": [
              "['Introducing Interfaces|An interface is a type of contract that assures that the enforces certain abilities are available on on a particular object class. Interfaces have continued to gain popularity in PHP as the use of package management through composer has become the standard. By having standard interfaces, package maintainers can more easily build and maintain packages for common tasks such as Logging, caching and http messages.|Chevron  steps|What is an Interface||Autoloading||Autoloading, Classes and Interfaces| |Writing an Interface||Define an Interface| objectives|Implementing an Interface||Implement MySQL RepositoryInterface| objectives',\n",
              " 'Using Interfaces|Often when working with interfaces, you will be using existing interfaces. Besides the interfaces that are built-in to PHP, most frameworks include their own interfaces. These interfaces work as a kind of guaranteed documentation for using individual components. By combining multiple interfaces we can build powerful components that can be easily understood by the rest of our application.|Chevron  steps',\n",
              " \"Abstract Classes|We'll use an abstract class to implement some base properties and methods while still requiring additional functionality.|Chevron  steps\"]"
            ]
          },
          "metadata": {},
          "execution_count": 495
        }
      ]
    },
    {
      "cell_type": "code",
      "metadata": {
        "colab": {
          "base_uri": "https://localhost:8080/"
        },
        "id": "lBJ7cLXCHRTt",
        "outputId": "4b50931d-c599-4c85-8d60-46ec2fc17a97"
      },
      "source": [
        "\n",
        "what_will_learn = soup.find('h4',text=\"What you'll learn\")\n",
        "crr=[]\n",
        "for sib in what_will_learn.find_next_siblings():\n",
        "    if sib.name==\"h4\":\n",
        "        break\n",
        "    else:\n",
        "        crr.append(sib.text)\n",
        "crr"
      ],
      "execution_count": null,
      "outputs": [
        {
          "output_type": "execute_result",
          "data": {
            "text/plain": [
              "['\\nWriting an Interface\\nImplementing Interfaces\\nExtending Interfaces\\nMatching Interfaces\\nAbstract Classes\\n']"
            ]
          },
          "metadata": {},
          "execution_count": 496
        }
      ]
    },
    {
      "cell_type": "code",
      "metadata": {
        "id": "22KBSLGJHn3W"
      },
      "source": [
        "#topics = same as what will learn  "
      ],
      "execution_count": null,
      "outputs": []
    },
    {
      "cell_type": "code",
      "metadata": {
        "colab": {
          "base_uri": "https://localhost:8080/"
        },
        "id": "eyb2IjOfJ1Y6",
        "outputId": "9594ed64-35bc-4307-999c-1c18ebe8941a"
      },
      "source": [
        "description = soup.find('h3',text='About this Course')\n",
        "drr=[]\n",
        "for sib in description.find_next_siblings():\n",
        "    if sib.name==\"h4\":\n",
        "        break\n",
        "    else:\n",
        "        drr.append(sib.text)\n",
        "drr"
      ],
      "execution_count": null,
      "outputs": [
        {
          "output_type": "execute_result",
          "data": {
            "text/plain": [
              "[\"An interface is a type of contract that assures that certain abilities are available on on a particular object class. We'll write and extend multiple interfaces, then implement them to design and match functionality. Interfaces do not store any implementation details themselves. To share implementation details between classes, we harness the power of inheritance. Abstract classes prevent a parent class from being directly instantiated, while at the same time defining methods that MUST be implemented in any extending children.\\nThis course will combine interface contracts with class hierarchy to leverage the benefits of each concept. We'll explain the differences between interfaces and abstract classes, and give you the knowledge you need to build and implement both in your own projects.\"]"
            ]
          },
          "metadata": {},
          "execution_count": 498
        }
      ]
    },
    {
      "cell_type": "code",
      "metadata": {
        "colab": {
          "base_uri": "https://localhost:8080/",
          "height": 35
        },
        "id": "dB-t3KZ1KS2d",
        "outputId": "1614278d-6b1d-4af3-fb03-2ebf677bbadd"
      },
      "source": [
        "total_duration = soup.find('h2')\n",
        "td=total_duration.get_text()\n",
        "ttld=td.split()\n",
        "ttld[0]"
      ],
      "execution_count": null,
      "outputs": [
        {
          "output_type": "execute_result",
          "data": {
            "application/vnd.google.colaboratory.intrinsic+json": {
              "type": "string"
            },
            "text/plain": [
              "'137-minute'"
            ]
          },
          "metadata": {},
          "execution_count": 499
        }
      ]
    },
    {
      "cell_type": "code",
      "metadata": {
        "colab": {
          "base_uri": "https://localhost:8080/",
          "height": 35
        },
        "id": "IHShaXp1K9wp",
        "outputId": "4e4c1fe1-42dc-4ab4-9dd3-0c9a2918eba3"
      },
      "source": [
        "instructor_name=soup.find('div',id='syllabus-authors')\n",
        "instructor_name.h4.get_text()"
      ],
      "execution_count": null,
      "outputs": [
        {
          "output_type": "execute_result",
          "data": {
            "application/vnd.google.colaboratory.intrinsic+json": {
              "type": "string"
            },
            "text/plain": [
              "'Alena Holligan'"
            ]
          },
          "metadata": {},
          "execution_count": 500
        }
      ]
    },
    {
      "cell_type": "code",
      "metadata": {
        "colab": {
          "base_uri": "https://localhost:8080/"
        },
        "id": "b-FuFFvGLy0y",
        "outputId": "e5e0c115-61d3-45d3-c557-5acde0572b55"
      },
      "source": [
        "instructor_bio=soup.find('div',id='syllabus-authors')\n",
        "print(instructor_bio.p.get_text())"
      ],
      "execution_count": null,
      "outputs": [
        {
          "output_type": "stream",
          "name": "stdout",
          "text": [
            "After starting out in fine art and moving into graphic design, Alena found her passion for programming over 15 years ago and has never looked back. Alena enjoys community and is excited to introduce people to the wonderful world of PHP and the Portland Tech Community.\n"
          ]
        }
      ]
    },
    {
      "cell_type": "code",
      "metadata": {
        "colab": {
          "base_uri": "https://localhost:8080/",
          "height": 35
        },
        "id": "uBFIpHs4TbvK",
        "outputId": "01d7c36a-50a2-4f6a-bef4-cce32058ff2a"
      },
      "source": [
        "instructor_image_url=soup.find('',class_='instructor-avatar')\n",
        "instructor_image_url.get('style')\n"
      ],
      "execution_count": null,
      "outputs": [
        {
          "output_type": "execute_result",
          "data": {
            "application/vnd.google.colaboratory.intrinsic+json": {
              "type": "string"
            },
            "text/plain": [
              "\"background-image: url('https://uploads.teamtreehouse.com/production/profile-photos/1539972/avatar_alena-holligan.jpg')\""
            ]
          },
          "metadata": {},
          "execution_count": 502
        }
      ]
    },
    {
      "cell_type": "code",
      "metadata": {
        "colab": {
          "base_uri": "https://localhost:8080/",
          "height": 35
        },
        "id": "t8TCqMarNP0R",
        "outputId": "03597825-1fca-485b-a2cc-c776d5b13e3f"
      },
      "source": [
        "level =soup.find('li',id='syllabus-skill-level')\n",
        "level.span.get_text()"
      ],
      "execution_count": null,
      "outputs": [
        {
          "output_type": "execute_result",
          "data": {
            "application/vnd.google.colaboratory.intrinsic+json": {
              "type": "string"
            },
            "text/plain": [
              "'Intermediate'"
            ]
          },
          "metadata": {},
          "execution_count": 503
        }
      ]
    },
    {
      "cell_type": "code",
      "metadata": {
        "id": "52RyRG73Nmc1"
      },
      "source": [
        ""
      ],
      "execution_count": null,
      "outputs": []
    },
    {
      "cell_type": "markdown",
      "metadata": {
        "id": "WjALcjuWSZse"
      },
      "source": [
        "Creating Dataframe"
      ]
    },
    {
      "cell_type": "code",
      "metadata": {
        "id": "uBq3NARCSf3v"
      },
      "source": [
        "import pandas as pd"
      ],
      "execution_count": null,
      "outputs": []
    },
    {
      "cell_type": "code",
      "metadata": {
        "id": "IChkQMHJUOSR"
      },
      "source": [
        "data = {'url':[prl],\n",
        "        'title': [title.string],\n",
        "        'learn_type':['Course'],\n",
        "        'topic' : [crr],\n",
        "        'what_will_learn':[crr],\n",
        "        'skills' : [''],\n",
        "        'description' : [drr],\n",
        "        'cover_image' : [''],\n",
        "        'delivery_method' : ['Online'],\n",
        "        'instruction_type' : [''],\n",
        "        'content' : [content],\n",
        "        'prerequisites' : [''],\n",
        "        'target_students' : ['anyone'],\n",
        "        'instructor name' : [instructor_name.h4.get_text()],\n",
        "        'instructor designation' : ['Instructor'],\n",
        "        'instructor bio' : [instructor_bio.p.get_text()],\n",
        "        'instuctor image url' : [instructor_image_url.get('style')],\n",
        "        'review':[''],\n",
        "        'total_duration' : [ttld[0]],\n",
        "        'total_duration_unit' : ['Months'],\n",
        "        'corporate_sponsor name' : [''],\n",
        "        'corporate_sponsor_logo': [''] ,\n",
        "        'recommended_effort_per_week' : [''],\n",
        "        'enrollment_start_date' : ['Other'],\n",
        "        'enrollment_end_date' : [''],\n",
        "        'level': [level.span.get_text()],\n",
        "        'languages': ['English'],\n",
        "        'short_description' : [''],\n",
        "        'accessibilities': ['Mobile,Desktop'],\n",
        "        'availabilities' : [''],\n",
        "        'Display Price': [''],\n",
        "        'pricing_type' : ['paid'],\n",
        "        'currency' : [''],\n",
        "        'regular_price':[''],\n",
        "        'additional_price_details':[''],\n",
        "        'sale_price' :[''],\n",
        "        'course_financing_available': [''],\n",
        "        'institute': ['Treehouse'],\n",
        "        'partner_course_url':[''],\n",
        "        'international_faculty':['True'],\n",
        "        'personalized_teaching' : [''],\n",
        "        'live_class' : ['False'],\n",
        "        'internship' : ['False'],\n",
        "        'job_assistance' : ['false'],\n",
        "        'learning_mediums': [''],\n",
        "        'capstone_project' : ['False'],\n",
        "        'syllabus':[''],\n",
        "\n",
        "         }"
      ],
      "execution_count": null,
      "outputs": []
    },
    {
      "cell_type": "code",
      "metadata": {
        "colab": {
          "base_uri": "https://localhost:8080/"
        },
        "id": "aNBG5jhsSirK",
        "outputId": "014d792e-e571-4100-b002-81a71bdceba0"
      },
      "source": [
        "df = pd.DataFrame (data, columns = ['url','title','learn_type','topic','what_will_learn','skills','description','cover_image','delivery_method','instruction_type','content','skills_gained','prerequisites',\n",
        "                                    'target_students','instructor name','instructor designation','instructor bio','instuctor image url','review','total_duration',\n",
        "                                    'total_duration_unit','corporate_sponsor name','corporate_sponsor_logo', 'recommended_effort_per_week','enrollment_start_date',\n",
        "                                    'enrollment_end_date','level','languages', 'short_description','accessibilities','availabilities','Display Price','pricing_type'\n",
        "                                    , 'currency','regular_price','additional_price_details','sale_price','course_financing_available','institute','partner_course_url','international_faculty'\n",
        "                                    ,'personalized_teaching','live_class','internship','job_assistance' ,'learning_mediums','capstone_project','syllabus'])\n",
        "print (df)"
      ],
      "execution_count": null,
      "outputs": [
        {
          "output_type": "stream",
          "name": "stdout",
          "text": [
            "                                                 url  ... syllabus\n",
            "0  https://teamtreehouse.com/library/designing-in...  ...         \n",
            "\n",
            "[1 rows x 48 columns]\n"
          ]
        }
      ]
    },
    {
      "cell_type": "code",
      "metadata": {
        "id": "YeHH5qNJZE41"
      },
      "source": [
        "df.to_csv('THT14_6.csv')"
      ],
      "execution_count": null,
      "outputs": []
    },
    {
      "cell_type": "code",
      "metadata": {
        "id": "asO38TDMZOTg"
      },
      "source": [
        ""
      ],
      "execution_count": null,
      "outputs": []
    }
  ]
}