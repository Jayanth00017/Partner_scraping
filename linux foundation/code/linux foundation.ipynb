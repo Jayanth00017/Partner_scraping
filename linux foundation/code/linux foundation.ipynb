{
 "cells": [
  {
   "cell_type": "code",
   "execution_count": 2,
   "id": "b42399bd",
   "metadata": {},
   "outputs": [],
   "source": [
    "from selenium import webdriver\n",
    "from selenium.webdriver.support.ui import Select\n",
    "import time\n",
    "import pandas as pd\n",
    "from openpyxl import load_workbook\n",
    "import dateutil.parser as parser"
   ]
  },
  {
   "cell_type": "code",
   "execution_count": 188,
   "id": "3651ff5d",
   "metadata": {},
   "outputs": [],
   "source": [
    "driver=webdriver.Chrome(r\"C:\\Users\\DELL\\Downloads\\chromedriver\")\n",
    "#driver.maximize_window()\n",
    "driver.get(\"https://training.linuxfoundation.org/full-catalog/\")\n",
    "#time.sleep(3)"
   ]
  },
  {
   "cell_type": "code",
   "execution_count": 189,
   "id": "5dd0e291",
   "metadata": {},
   "outputs": [],
   "source": [
    "a=driver.find_elements_by_class_name(\"lf-owl-card\")"
   ]
  },
  {
   "cell_type": "code",
   "execution_count": 190,
   "id": "dae13a88",
   "metadata": {},
   "outputs": [],
   "source": [
    "for i in range(len(a)):\n",
    "    a[i]=a[i].get_attribute('href')"
   ]
  },
  {
   "cell_type": "code",
   "execution_count": 185,
   "id": "75cd928d",
   "metadata": {},
   "outputs": [
    {
     "data": {
      "text/plain": [
       "137"
      ]
     },
     "execution_count": 185,
     "metadata": {},
     "output_type": "execute_result"
    }
   ],
   "source": [
    "len(a)"
   ]
  },
  {
   "cell_type": "code",
   "execution_count": 13,
   "id": "8dbca1a7",
   "metadata": {},
   "outputs": [],
   "source": [
    "#title\n",
    "def title(i):\n",
    "    driver.get(i)\n",
    "    nope=[\"https://training.linuxfoundation.org/training/cloud-engineer-bootcamp/\",\"https://training.linuxfoundation.org/training/advanced-cloud-engineer-bootcamp/\"]\n",
    "    try:\n",
    "        if i in nope:\n",
    "            return \"\"\n",
    "        return (driver.find_element_by_class_name(\"lf-pdp-fundamental-header\").text)\n",
    "    except:\n",
    "        return \"\""
   ]
  },
  {
   "cell_type": "code",
   "execution_count": 67,
   "id": "83a679ea",
   "metadata": {},
   "outputs": [],
   "source": [
    "wb = load_workbook(\"output.xlsx\")\n",
    "        # Select First Worksheet\n",
    "ws = wb.worksheets[0]\n",
    "ws.append(to_add)\n",
    "wb.save(\"output.xlsx\")"
   ]
  },
  {
   "cell_type": "code",
   "execution_count": 106,
   "id": "f2e3a04c",
   "metadata": {},
   "outputs": [],
   "source": [
    "#description\n",
    "def desc(i):\n",
    "    driver.get(i)\n",
    "    try:\n",
    "        return (driver.find_element_by_class_name(\"wpb_wrapper\").text.split(\"\\n\")[-2])\n",
    "    except:\n",
    "        return \"\""
   ]
  },
  {
   "cell_type": "code",
   "execution_count": 107,
   "id": "e8f29e7d",
   "metadata": {},
   "outputs": [],
   "source": [
    "#content\n",
    "def content(i):\n",
    "    driver.get(i)\n",
    "    try:\n",
    "        return (driver.find_element_by_class_name(\"lf_pdp_fundamentals-course_outline-content\").text)\n",
    "    except:\n",
    "        return \"\""
   ]
  },
  {
   "cell_type": "code",
   "execution_count": 161,
   "id": "30ac3432",
   "metadata": {},
   "outputs": [],
   "source": [
    "#level\n",
    "def level(i):\n",
    "    driver.get(i)\n",
    "    try:\n",
    "        return (driver.find_element_by_class_name(\"lf_pdp_fundamentals-experience_level-title\").text.split(' ')[-1])\n",
    "    except:\n",
    "        return \"\""
   ]
  },
  {
   "cell_type": "code",
   "execution_count": 109,
   "id": "6039ec41",
   "metadata": {},
   "outputs": [],
   "source": [
    "def video(i):\n",
    "    nope=[\"https://training.linuxfoundation.org/training/kubernetes-fundamentals-lfs258-cka-exam-bundle/\"]\n",
    "    if i in nope:\n",
    "        return \"\"\n",
    "    driver.get(i)\n",
    "    #ytp-title-link yt-uix-sessionlink\n",
    "    return (driver.find_element_by_class_name(\"lf-pdp-video-play\").get_attribute(\"data-api-url\"))"
   ]
  },
  {
   "cell_type": "code",
   "execution_count": 134,
   "id": "3c07e75c",
   "metadata": {},
   "outputs": [],
   "source": [
    "def type_(i):\n",
    "    driver.get(i)\n",
    "    try:\n",
    "        check=driver.find_element_by_class_name(\"lf_pdp_fundamentals-includes-content\").text.split(\"\\n\")[0]\n",
    "        if \"Self Paced\" in check:\n",
    "            return \"Self-Paced\"\n",
    "        elif \"Live\" in check:\n",
    "            return \"Instructor-Paced\"\n",
    "    except:\n",
    "        return \"\"\n",
    "def deli(i):\n",
    "    driver.get(i)\n",
    "    try:\n",
    "        if \"Video\" in (driver.find_element_by_class_name(\"lf_pdp_fundamentals-includes-content\").text.split(\"\\n\")[2]):\n",
    "            return \"Video Content\"\n",
    "        else:\n",
    "            return \"Online\"\n",
    "    except:\n",
    "        return \"Online\"\n",
    "def video_content(i):\n",
    "    driver.get(i)\n",
    "    try:\n",
    "        to_return=driver.find_element_by_class_name(\"lf_pdp_fundamentals-includes-content\").text.split(\"\\n\")[1]\n",
    "        if ('Certification','Duration') in to_return:\n",
    "            return [\"\",\"\"]\n",
    "        \n",
    "        return to_return.split(\" \")[:2]\n",
    "    except:\n",
    "        return [\"\",\"\"]\n",
    "def duration(i):\n",
    "    driver.get(i)\n",
    "    try: \n",
    "        to_return=driver.find_element_by_class_name(\"lf_pdp_fundamentals-includes-content\").text.split(\"\\n\")[5]\n",
    "        if any('PDF','Free','Discussion','Digital') in to_return:\n",
    "            return [\"\",\"\"]\n",
    "        if any('Optional','Registration') in to_return:\n",
    "            to_return=driver.find_element_by_class_name(\"lf_pdp_fundamentals-includes-content\").text.split(\"\\n\")[4]\n",
    "        return to_return.split(\" \")[:2]\n",
    "    except:\n",
    "        return [\"\",\"\"]"
   ]
  },
  {
   "cell_type": "code",
   "execution_count": 111,
   "id": "02a4229b",
   "metadata": {},
   "outputs": [
    {
     "name": "stdout",
     "output_type": "stream",
     "text": [
      "Certification\n"
     ]
    }
   ],
   "source": [
    "aa=driver.find_element_by_class_name(\"lf_pdp_fundamentals-includes-content\").text.split(\"\\n\")[2]\n",
    "print(aa.split(\" \")[0])"
   ]
  },
  {
   "cell_type": "code",
   "execution_count": 150,
   "id": "ccc5f2dd",
   "metadata": {},
   "outputs": [],
   "source": [
    "#0=who is it for  ,1=what you will learn\n",
    "def who(i):\n",
    "    driver.get(i)\n",
    "    try:\n",
    "        return (driver.find_elements_by_class_name(\"lf-pdp-content-body\")[0].text)\n",
    "    except:\n",
    "        return \"\"\n",
    "def what(i):\n",
    "    driver.get(i)\n",
    "    try:\n",
    "        return (driver.find_elements_by_class_name(\"lf-pdp-content-body\")[1].text)\n",
    "    except:\n",
    "        return \"\"\n",
    "def desc__(i):\n",
    "    driver.get(i)\n",
    "    try:\n",
    "        return (driver.find_elements_by_class_name(\"lf-pdp-content-body\")[2].text)\n",
    "    except:\n",
    "        return \"\""
   ]
  },
  {
   "cell_type": "code",
   "execution_count": 113,
   "id": "ba547191",
   "metadata": {},
   "outputs": [],
   "source": [
    "#cover Image\n",
    "def cover_image(i):\n",
    "    driver.get(i)\n",
    "    return driver.find_element_by_class_name(\"lf-pdp-video-preview\").get_attribute(\"src\")"
   ]
  },
  {
   "cell_type": "code",
   "execution_count": 180,
   "id": "0cac7043",
   "metadata": {},
   "outputs": [],
   "source": [
    "#price\n",
    "def price(i):\n",
    "    driver.get(i)\n",
    "    try:\n",
    "        k=driver.find_elements_by_class_name(\"lf_pdp_fundamentals-buy-body-card-info-price\")\n",
    "        m=[]\n",
    "        for i in k:\n",
    "            m.append(i.text.split(\"$\")[-1])\n",
    "        if len(m)==2:\n",
    "            return m\n",
    "        d=driver.find_element_by_class_name(\"lf_pdp_fundamentals-buy-body-card-info-price\").text.split(\"$\")[-1]\n",
    "        return [d,d]\n",
    "    except:\n",
    "        return [\"\",\"\"]"
   ]
  },
  {
   "cell_type": "code",
   "execution_count": 17,
   "id": "529ccfed",
   "metadata": {},
   "outputs": [
    {
     "ename": "NameError",
     "evalue": "name 'df2' is not defined",
     "output_type": "error",
     "traceback": [
      "\u001b[1;31m---------------------------------------------------------------------------\u001b[0m",
      "\u001b[1;31mNameError\u001b[0m                                 Traceback (most recent call last)",
      "\u001b[1;32m<ipython-input-17-7cc79c7dd688>\u001b[0m in \u001b[0;36m<module>\u001b[1;34m\u001b[0m\n\u001b[0;32m      2\u001b[0m \u001b[0mdf\u001b[0m \u001b[1;33m=\u001b[0m \u001b[0mpd\u001b[0m\u001b[1;33m.\u001b[0m\u001b[0mread_excel\u001b[0m\u001b[1;33m(\u001b[0m\u001b[1;34m\"output.xlsx\"\u001b[0m\u001b[1;33m)\u001b[0m\u001b[1;33m\u001b[0m\u001b[1;33m\u001b[0m\u001b[0m\n\u001b[0;32m      3\u001b[0m \u001b[1;31m#df = df.append({\"title\": (\"worked\",\"ui\"),\"content\": \"ui\"}, ignore_index=True)\u001b[0m\u001b[1;33m\u001b[0m\u001b[1;33m\u001b[0m\u001b[1;33m\u001b[0m\u001b[0m\n\u001b[1;32m----> 4\u001b[1;33m \u001b[0mdf\u001b[0m\u001b[1;33m.\u001b[0m\u001b[0mappend\u001b[0m\u001b[1;33m(\u001b[0m\u001b[0mdf2\u001b[0m\u001b[1;33m)\u001b[0m\u001b[1;33m\u001b[0m\u001b[1;33m\u001b[0m\u001b[0m\n\u001b[0m\u001b[0;32m      5\u001b[0m \u001b[0mdf\u001b[0m\u001b[1;33m.\u001b[0m\u001b[0mto_excel\u001b[0m\u001b[1;33m(\u001b[0m\u001b[1;34m\"output.xlsx\"\u001b[0m\u001b[1;33m,\u001b[0m\u001b[0mindex\u001b[0m\u001b[1;33m=\u001b[0m\u001b[1;32mFalse\u001b[0m\u001b[1;33m)\u001b[0m\u001b[1;33m\u001b[0m\u001b[1;33m\u001b[0m\u001b[0m\n",
      "\u001b[1;31mNameError\u001b[0m: name 'df2' is not defined"
     ]
    }
   ],
   "source": [
    "import pandas as pd;\n",
    "df = pd.read_excel(\"output.xlsx\")\n",
    "#df = df.append({\"title\": (\"worked\",\"ui\"),\"content\": \"ui\"}, ignore_index=True)\n",
    "df.append(df2)\n",
    "df.to_excel(\"output.xlsx\",index=False)"
   ]
  },
  {
   "cell_type": "code",
   "execution_count": 30,
   "id": "8728873a",
   "metadata": {},
   "outputs": [
    {
     "ename": "NameError",
     "evalue": "name 'yes' is not defined",
     "output_type": "error",
     "traceback": [
      "\u001b[1;31m---------------------------------------------------------------------------\u001b[0m",
      "\u001b[1;31mNameError\u001b[0m                                 Traceback (most recent call last)",
      "\u001b[1;32m<ipython-input-30-f8f4e3ec1c6b>\u001b[0m in \u001b[0;36m<module>\u001b[1;34m\u001b[0m\n\u001b[0;32m      6\u001b[0m \u001b[0mnope\u001b[0m\u001b[1;33m=\u001b[0m\u001b[1;33m[\u001b[0m\u001b[1;34m\"https://training.linuxfoundation.org/training/yocto-practical-class-lfd461-jp/\"\u001b[0m\u001b[1;33m]\u001b[0m\u001b[1;33m\u001b[0m\u001b[1;33m\u001b[0m\u001b[0m\n\u001b[0;32m      7\u001b[0m \u001b[1;32mfor\u001b[0m \u001b[0mi\u001b[0m \u001b[1;32min\u001b[0m \u001b[0ma\u001b[0m\u001b[1;33m:\u001b[0m\u001b[1;33m\u001b[0m\u001b[1;33m\u001b[0m\u001b[0m\n\u001b[1;32m----> 8\u001b[1;33m     \u001b[1;32mif\u001b[0m \u001b[0mi\u001b[0m \u001b[1;32min\u001b[0m \u001b[0myes\u001b[0m\u001b[1;33m:\u001b[0m\u001b[1;33m\u001b[0m\u001b[1;33m\u001b[0m\u001b[0m\n\u001b[0m\u001b[0;32m      9\u001b[0m         \u001b[0mflag\u001b[0m\u001b[1;33m=\u001b[0m\u001b[1;36m1\u001b[0m\u001b[1;33m\u001b[0m\u001b[1;33m\u001b[0m\u001b[0m\n\u001b[0;32m     10\u001b[0m         \u001b[1;32mcontinue\u001b[0m\u001b[1;33m\u001b[0m\u001b[1;33m\u001b[0m\u001b[0m\n",
      "\u001b[1;31mNameError\u001b[0m: name 'yes' is not defined"
     ]
    }
   ],
   "source": [
    "wb = load_workbook(\"output.xlsx\")\n",
    "        # Select First Worksheet\n",
    "ws = wb.worksheets[0]\n",
    "driver=webdriver.Chrome(r\"C:\\Users\\DELL\\Downloads\\chromedriver\")\n",
    "flag=0\n",
    "nope=[\"https://training.linuxfoundation.org/training/yocto-practical-class-lfd461-jp/\"]\n",
    "for i in a:\n",
    "    if i in yes:\n",
    "        flag=1\n",
    "        continue\n",
    "    \n",
    "    if flag==0:\n",
    "        continue\n",
    "    print(i)\n",
    "    driver.get(i)\n",
    "    to_add=[]\n",
    "    to_add.append(\"\")\n",
    "    to_add.append(title(i))\n",
    "    to_add.append(\"Certification\")\n",
    "    to_add.append(content(i))\n",
    "    to_add.append(\"\")\n",
    "    to_add.append(desc__(i))\n",
    "    to_add.append(cover_image(i))\n",
    "    to_add.extend((\" \",\" \"))\n",
    "    to_add.append(deli(i))\n",
    "    to_add.append(type_(i))\n",
    "    to_add.append(content(i))\n",
    "    to_add.append(what(i))\n",
    "    to_add.append(\"\") #prerequisites\n",
    "    to_add.append(who(i)) #target_students\n",
    "    for j in range(9):\n",
    "        for k in range(8):\n",
    "            to_add.append(\"\")#instructor\n",
    "    for j in range(36):\n",
    "        to_add.append(\"\") #review\n",
    "    to_add.extend(duration(i))\n",
    "    to_add.extend(video_content(i))\n",
    "    for j in range(22):\n",
    "        to_add.append(\"\") #sponsor+ start date +end date\n",
    "    to_add.append(level(i))\n",
    "    to_add.append(\"English\")\n",
    "    to_add.append(desc(i))\n",
    "    to_add.append(\"English\")\n",
    "    to_add.append(\"\")\n",
    "    to_add.append(\"Limited Access\")\n",
    "    to_add.extend((\"True\",\"Paid\",\"USD\"))\n",
    "    for j in range(2):\n",
    "        to_add.append(price(i))\n",
    "    for j in range(7):\n",
    "        to_add.append(\"\")\n",
    "    to_add.append(\"The Linux Foundation\")\n",
    "    to_add.append(\"\")\n",
    "    to_add.append(assess(driver))\n",
    "    for j in range(2):\n",
    "        to_add.append(\"\")\n",
    "    for j in range(3):\n",
    "        to_add.append(\"False\")\n",
    "    for j in range(3):\n",
    "        to_add.append(\"\")\n",
    "    to_add.append(learn_medium(driver))\n",
    "    to_add.append(\"True\")\n",
    "    ws.append(to_add)\n",
    "    wb.save(\"output.xlsx\")\n",
    "    nope.append(i)"
   ]
  },
  {
   "cell_type": "code",
   "execution_count": 60,
   "id": "0cef92b1",
   "metadata": {},
   "outputs": [],
   "source": [
    "yes=[\"https://training.linuxfoundation.org/certification/linux-foundation-certified-system-administrator-lfcs-jp/\"]"
   ]
  },
  {
   "cell_type": "code",
   "execution_count": 65,
   "id": "8aef7b49",
   "metadata": {},
   "outputs": [],
   "source": [
    "nope=[\"https://training.linuxfoundation.org/training/advanced-cloud-engineer-bootcamp/\",\n",
    "   \" https://training.linuxfoundation.org/training/linux-for-system-engineers/\",\n",
    "        \"https://training.linuxfoundation.org/training/cloud-engineer-bootcamp/\",\n",
    "            \"https://training.linuxfoundation.org/training/introduction-to-cloud-foundry-lfd132x/\",\n",
    "               \" https://training.linuxfoundation.org/training/yocto-practical-class-lfd461-jp/\"]"
   ]
  },
  {
   "cell_type": "code",
   "execution_count": 165,
   "id": "9a6f7677",
   "metadata": {},
   "outputs": [],
   "source": [
    "def assess(driver):\n",
    "    to_return=\"\"\n",
    "    try:\n",
    "        assess=driver.find_element_by_class_name(\"lf_pdp_fundamentals-learning_path-layer-content\").text.split(\"\\n\")\n",
    "        for m in range(len(assess)):\n",
    "            if m%2!=0:\n",
    "                continue\n",
    "            to_return+=assess[m]+\" | \"\n",
    "        return (to_return)\n",
    "    except:\n",
    "        return (to_return)\n",
    "def learn_medium(driver):\n",
    "    try:\n",
    "        if \"Hands-on\" in driver.find_element_by_class_name(\"lf_pdp_fundamentals-includes-content\").text.split(\"\\n\")[2]:\n",
    "            return \"Hands On Training\"\n",
    "        return \"\"\n",
    "    except:\n",
    "        return \"\""
   ]
  },
  {
   "cell_type": "code",
   "execution_count": 7,
   "id": "340828de",
   "metadata": {},
   "outputs": [
    {
     "data": {
      "text/plain": [
       "Index(['id', 'title', 'learn_type', 'topics', 'skills', 'description',\n",
       "       'cover_image', 'cover_video', 'embedded_video_url', 'delivery_method',\n",
       "       ...\n",
       "       'personalized_teaching', 'live_class', 'job_assistance', 'internship',\n",
       "       'alumni_network', 'learning_mediums', 'virtual_labs',\n",
       "       'case_based_learning', 'capstone_project', 'syllabus'],\n",
       "      dtype='object', length=183)"
      ]
     },
     "execution_count": 7,
     "metadata": {},
     "output_type": "execute_result"
    }
   ],
   "source": [
    "df.columns"
   ]
  },
  {
   "cell_type": "code",
   "execution_count": 6,
   "id": "18fbad40",
   "metadata": {},
   "outputs": [],
   "source": [
    "df=pd.DataFrame(pd.read_excel(\"output.xlsx\"))"
   ]
  },
  {
   "cell_type": "code",
   "execution_count": 88,
   "id": "ebd91d61",
   "metadata": {},
   "outputs": [
    {
     "ename": "ValueError",
     "evalue": "Length of values (134) does not match length of index (137)",
     "output_type": "error",
     "traceback": [
      "\u001b[1;31m---------------------------------------------------------------------------\u001b[0m",
      "\u001b[1;31mValueError\u001b[0m                                Traceback (most recent call last)",
      "\u001b[1;32m<ipython-input-88-57be3a9dbcb8>\u001b[0m in \u001b[0;36m<module>\u001b[1;34m\u001b[0m\n\u001b[0;32m      4\u001b[0m         \u001b[1;32mcontinue\u001b[0m\u001b[1;33m\u001b[0m\u001b[1;33m\u001b[0m\u001b[0m\n\u001b[0;32m      5\u001b[0m     \u001b[0mres\u001b[0m\u001b[1;33m.\u001b[0m\u001b[0mappend\u001b[0m\u001b[1;33m(\u001b[0m\u001b[0mtitle\u001b[0m\u001b[1;33m(\u001b[0m\u001b[0mi\u001b[0m\u001b[1;33m)\u001b[0m\u001b[1;33m)\u001b[0m\u001b[1;33m\u001b[0m\u001b[1;33m\u001b[0m\u001b[0m\n\u001b[1;32m----> 6\u001b[1;33m \u001b[0mdf\u001b[0m\u001b[1;33m[\u001b[0m\u001b[1;34m'title'\u001b[0m\u001b[1;33m]\u001b[0m\u001b[1;33m=\u001b[0m\u001b[0mres\u001b[0m\u001b[1;33m\u001b[0m\u001b[1;33m\u001b[0m\u001b[0m\n\u001b[0m",
      "\u001b[1;32m~\\anaconda3\\lib\\site-packages\\pandas\\core\\frame.py\u001b[0m in \u001b[0;36m__setitem__\u001b[1;34m(self, key, value)\u001b[0m\n\u001b[0;32m   3605\u001b[0m         \u001b[1;32melse\u001b[0m\u001b[1;33m:\u001b[0m\u001b[1;33m\u001b[0m\u001b[1;33m\u001b[0m\u001b[0m\n\u001b[0;32m   3606\u001b[0m             \u001b[1;31m# set column\u001b[0m\u001b[1;33m\u001b[0m\u001b[1;33m\u001b[0m\u001b[1;33m\u001b[0m\u001b[0m\n\u001b[1;32m-> 3607\u001b[1;33m             \u001b[0mself\u001b[0m\u001b[1;33m.\u001b[0m\u001b[0m_set_item\u001b[0m\u001b[1;33m(\u001b[0m\u001b[0mkey\u001b[0m\u001b[1;33m,\u001b[0m \u001b[0mvalue\u001b[0m\u001b[1;33m)\u001b[0m\u001b[1;33m\u001b[0m\u001b[1;33m\u001b[0m\u001b[0m\n\u001b[0m\u001b[0;32m   3608\u001b[0m \u001b[1;33m\u001b[0m\u001b[0m\n\u001b[0;32m   3609\u001b[0m     \u001b[1;32mdef\u001b[0m \u001b[0m_setitem_slice\u001b[0m\u001b[1;33m(\u001b[0m\u001b[0mself\u001b[0m\u001b[1;33m,\u001b[0m \u001b[0mkey\u001b[0m\u001b[1;33m:\u001b[0m \u001b[0mslice\u001b[0m\u001b[1;33m,\u001b[0m \u001b[0mvalue\u001b[0m\u001b[1;33m)\u001b[0m\u001b[1;33m:\u001b[0m\u001b[1;33m\u001b[0m\u001b[1;33m\u001b[0m\u001b[0m\n",
      "\u001b[1;32m~\\anaconda3\\lib\\site-packages\\pandas\\core\\frame.py\u001b[0m in \u001b[0;36m_set_item\u001b[1;34m(self, key, value)\u001b[0m\n\u001b[0;32m   3777\u001b[0m         \u001b[0mensure\u001b[0m \u001b[0mhomogeneity\u001b[0m\u001b[1;33m.\u001b[0m\u001b[1;33m\u001b[0m\u001b[1;33m\u001b[0m\u001b[0m\n\u001b[0;32m   3778\u001b[0m         \"\"\"\n\u001b[1;32m-> 3779\u001b[1;33m         \u001b[0mvalue\u001b[0m \u001b[1;33m=\u001b[0m \u001b[0mself\u001b[0m\u001b[1;33m.\u001b[0m\u001b[0m_sanitize_column\u001b[0m\u001b[1;33m(\u001b[0m\u001b[0mvalue\u001b[0m\u001b[1;33m)\u001b[0m\u001b[1;33m\u001b[0m\u001b[1;33m\u001b[0m\u001b[0m\n\u001b[0m\u001b[0;32m   3780\u001b[0m \u001b[1;33m\u001b[0m\u001b[0m\n\u001b[0;32m   3781\u001b[0m         if (\n",
      "\u001b[1;32m~\\anaconda3\\lib\\site-packages\\pandas\\core\\frame.py\u001b[0m in \u001b[0;36m_sanitize_column\u001b[1;34m(self, value)\u001b[0m\n\u001b[0;32m   4502\u001b[0m \u001b[1;33m\u001b[0m\u001b[0m\n\u001b[0;32m   4503\u001b[0m         \u001b[1;32mif\u001b[0m \u001b[0mis_list_like\u001b[0m\u001b[1;33m(\u001b[0m\u001b[0mvalue\u001b[0m\u001b[1;33m)\u001b[0m\u001b[1;33m:\u001b[0m\u001b[1;33m\u001b[0m\u001b[1;33m\u001b[0m\u001b[0m\n\u001b[1;32m-> 4504\u001b[1;33m             \u001b[0mcom\u001b[0m\u001b[1;33m.\u001b[0m\u001b[0mrequire_length_match\u001b[0m\u001b[1;33m(\u001b[0m\u001b[0mvalue\u001b[0m\u001b[1;33m,\u001b[0m \u001b[0mself\u001b[0m\u001b[1;33m.\u001b[0m\u001b[0mindex\u001b[0m\u001b[1;33m)\u001b[0m\u001b[1;33m\u001b[0m\u001b[1;33m\u001b[0m\u001b[0m\n\u001b[0m\u001b[0;32m   4505\u001b[0m         \u001b[1;32mreturn\u001b[0m \u001b[0msanitize_array\u001b[0m\u001b[1;33m(\u001b[0m\u001b[0mvalue\u001b[0m\u001b[1;33m,\u001b[0m \u001b[0mself\u001b[0m\u001b[1;33m.\u001b[0m\u001b[0mindex\u001b[0m\u001b[1;33m,\u001b[0m \u001b[0mcopy\u001b[0m\u001b[1;33m=\u001b[0m\u001b[1;32mTrue\u001b[0m\u001b[1;33m,\u001b[0m \u001b[0mallow_2d\u001b[0m\u001b[1;33m=\u001b[0m\u001b[1;32mTrue\u001b[0m\u001b[1;33m)\u001b[0m\u001b[1;33m\u001b[0m\u001b[1;33m\u001b[0m\u001b[0m\n\u001b[0;32m   4506\u001b[0m \u001b[1;33m\u001b[0m\u001b[0m\n",
      "\u001b[1;32m~\\anaconda3\\lib\\site-packages\\pandas\\core\\common.py\u001b[0m in \u001b[0;36mrequire_length_match\u001b[1;34m(data, index)\u001b[0m\n\u001b[0;32m    526\u001b[0m     \u001b[1;32mif\u001b[0m \u001b[0mlen\u001b[0m\u001b[1;33m(\u001b[0m\u001b[0mdata\u001b[0m\u001b[1;33m)\u001b[0m \u001b[1;33m!=\u001b[0m \u001b[0mlen\u001b[0m\u001b[1;33m(\u001b[0m\u001b[0mindex\u001b[0m\u001b[1;33m)\u001b[0m\u001b[1;33m:\u001b[0m\u001b[1;33m\u001b[0m\u001b[1;33m\u001b[0m\u001b[0m\n\u001b[0;32m    527\u001b[0m         raise ValueError(\n\u001b[1;32m--> 528\u001b[1;33m             \u001b[1;34m\"Length of values \"\u001b[0m\u001b[1;33m\u001b[0m\u001b[1;33m\u001b[0m\u001b[0m\n\u001b[0m\u001b[0;32m    529\u001b[0m             \u001b[1;34mf\"({len(data)}) \"\u001b[0m\u001b[1;33m\u001b[0m\u001b[1;33m\u001b[0m\u001b[0m\n\u001b[0;32m    530\u001b[0m             \u001b[1;34m\"does not match length of index \"\u001b[0m\u001b[1;33m\u001b[0m\u001b[1;33m\u001b[0m\u001b[0m\n",
      "\u001b[1;31mValueError\u001b[0m: Length of values (134) does not match length of index (137)"
     ]
    }
   ],
   "source": [
    "res=[]\n",
    "for i in a:\n",
    "    if i in nope:\n",
    "        continue\n",
    "    res.append(title(i))\n"
   ]
  },
  {
   "cell_type": "code",
   "execution_count": 90,
   "id": "e0cf0b67",
   "metadata": {},
   "outputs": [],
   "source": [
    "for i in range(2):\n",
    "    res.remove(\"\")\n",
    "\n",
    "df['title']=res"
   ]
  },
  {
   "cell_type": "code",
   "execution_count": 91,
   "id": "64647ba4",
   "metadata": {},
   "outputs": [
    {
     "ename": "ValueError",
     "evalue": "list.remove(x): x not in list",
     "output_type": "error",
     "traceback": [
      "\u001b[1;31m---------------------------------------------------------------------------\u001b[0m",
      "\u001b[1;31mValueError\u001b[0m                                Traceback (most recent call last)",
      "\u001b[1;32m<ipython-input-91-863571929bf2>\u001b[0m in \u001b[0;36m<module>\u001b[1;34m\u001b[0m\n\u001b[0;32m      5\u001b[0m     \u001b[0mres\u001b[0m\u001b[1;33m.\u001b[0m\u001b[0mappend\u001b[0m\u001b[1;33m(\u001b[0m\u001b[0mdesc\u001b[0m\u001b[1;33m(\u001b[0m\u001b[0mi\u001b[0m\u001b[1;33m)\u001b[0m\u001b[1;33m)\u001b[0m\u001b[1;33m\u001b[0m\u001b[1;33m\u001b[0m\u001b[0m\n\u001b[0;32m      6\u001b[0m \u001b[1;32mfor\u001b[0m \u001b[0mi\u001b[0m \u001b[1;32min\u001b[0m \u001b[0mrange\u001b[0m\u001b[1;33m(\u001b[0m\u001b[1;36m3\u001b[0m\u001b[1;33m)\u001b[0m\u001b[1;33m:\u001b[0m\u001b[1;33m\u001b[0m\u001b[1;33m\u001b[0m\u001b[0m\n\u001b[1;32m----> 7\u001b[1;33m     \u001b[0mres\u001b[0m\u001b[1;33m.\u001b[0m\u001b[0mremove\u001b[0m\u001b[1;33m(\u001b[0m\u001b[1;34m\"\"\u001b[0m\u001b[1;33m)\u001b[0m\u001b[1;33m\u001b[0m\u001b[1;33m\u001b[0m\u001b[0m\n\u001b[0m\u001b[0;32m      8\u001b[0m \u001b[0mdf\u001b[0m\u001b[1;33m[\u001b[0m\u001b[1;34m'description'\u001b[0m\u001b[1;33m]\u001b[0m\u001b[1;33m=\u001b[0m\u001b[0mres\u001b[0m\u001b[1;33m\u001b[0m\u001b[1;33m\u001b[0m\u001b[0m\n\u001b[0;32m      9\u001b[0m \u001b[0mres\u001b[0m\u001b[1;33m=\u001b[0m\u001b[1;33m[\u001b[0m\u001b[1;33m]\u001b[0m\u001b[1;33m\u001b[0m\u001b[1;33m\u001b[0m\u001b[0m\n",
      "\u001b[1;31mValueError\u001b[0m: list.remove(x): x not in list"
     ]
    }
   ],
   "source": [
    "res=[]\n",
    "for i in a:\n",
    "    if i in nope:\n",
    "        continue\n",
    "    res.append(desc(i))\n",
    "for i in range(4):\n",
    "    res.append(\"\")\n",
    "df['description']=res\n"
   ]
  },
  {
   "cell_type": "code",
   "execution_count": 95,
   "id": "d8bd0065",
   "metadata": {},
   "outputs": [],
   "source": [
    "res=[]\n",
    "for i in a:\n",
    "    if i in nope:\n",
    "        continue\n",
    "    res.append(\"Certification\")\n",
    "for i in range(3):\n",
    "    res.append(\"\")\n",
    "df['learn_type']=res"
   ]
  },
  {
   "cell_type": "code",
   "execution_count": 101,
   "id": "3d068885",
   "metadata": {},
   "outputs": [],
   "source": [
    "res=[]\n",
    "for i in a:\n",
    "    if i in nope:\n",
    "        continue\n",
    "    res.append(content(i))\n",
    "for i in range(3):\n",
    "    res.append(\"\")\n",
    "df['topics']=res\n"
   ]
  },
  {
   "cell_type": "code",
   "execution_count": 104,
   "id": "5297a175",
   "metadata": {},
   "outputs": [],
   "source": [
    "res=[]\n",
    "for i in a:\n",
    "    if i in nope:\n",
    "        continue\n",
    "    res.append(desc__(i))\n",
    "for i in range(3):\n",
    "    res.append(\"\")\n",
    "df['description']=res"
   ]
  },
  {
   "cell_type": "code",
   "execution_count": 115,
   "id": "52afb478",
   "metadata": {},
   "outputs": [
    {
     "ename": "NoSuchElementException",
     "evalue": "Message: no such element: Unable to locate element: {\"method\":\"css selector\",\"selector\":\".lf-pdp-video-preview\"}\n  (Session info: chrome=93.0.4577.82)\n",
     "output_type": "error",
     "traceback": [
      "\u001b[1;31m---------------------------------------------------------------------------\u001b[0m",
      "\u001b[1;31mNoSuchElementException\u001b[0m                    Traceback (most recent call last)",
      "\u001b[1;32m<ipython-input-115-c4b0ee32cdb0>\u001b[0m in \u001b[0;36m<module>\u001b[1;34m\u001b[0m\n\u001b[0;32m      4\u001b[0m     \u001b[1;32mif\u001b[0m \u001b[0mi\u001b[0m \u001b[1;32min\u001b[0m \u001b[0mnope\u001b[0m\u001b[1;33m:\u001b[0m\u001b[1;33m\u001b[0m\u001b[1;33m\u001b[0m\u001b[0m\n\u001b[0;32m      5\u001b[0m         \u001b[1;32mcontinue\u001b[0m\u001b[1;33m\u001b[0m\u001b[1;33m\u001b[0m\u001b[0m\n\u001b[1;32m----> 6\u001b[1;33m     \u001b[0mres\u001b[0m\u001b[1;33m.\u001b[0m\u001b[0mappend\u001b[0m\u001b[1;33m(\u001b[0m\u001b[0mcover_image\u001b[0m\u001b[1;33m(\u001b[0m\u001b[0mi\u001b[0m\u001b[1;33m)\u001b[0m\u001b[1;33m)\u001b[0m\u001b[1;33m\u001b[0m\u001b[1;33m\u001b[0m\u001b[0m\n\u001b[0m\u001b[0;32m      7\u001b[0m \u001b[1;32mfor\u001b[0m \u001b[0mi\u001b[0m \u001b[1;32min\u001b[0m \u001b[0mrange\u001b[0m\u001b[1;33m(\u001b[0m\u001b[1;36m3\u001b[0m\u001b[1;33m)\u001b[0m\u001b[1;33m:\u001b[0m\u001b[1;33m\u001b[0m\u001b[1;33m\u001b[0m\u001b[0m\n\u001b[0;32m      8\u001b[0m     \u001b[0mres\u001b[0m\u001b[1;33m.\u001b[0m\u001b[0mappend\u001b[0m\u001b[1;33m(\u001b[0m\u001b[1;34m\"\"\u001b[0m\u001b[1;33m)\u001b[0m\u001b[1;33m\u001b[0m\u001b[1;33m\u001b[0m\u001b[0m\n",
      "\u001b[1;32m<ipython-input-113-93e2434d7519>\u001b[0m in \u001b[0;36mcover_image\u001b[1;34m(i)\u001b[0m\n\u001b[0;32m      2\u001b[0m \u001b[1;32mdef\u001b[0m \u001b[0mcover_image\u001b[0m\u001b[1;33m(\u001b[0m\u001b[0mi\u001b[0m\u001b[1;33m)\u001b[0m\u001b[1;33m:\u001b[0m\u001b[1;33m\u001b[0m\u001b[1;33m\u001b[0m\u001b[0m\n\u001b[0;32m      3\u001b[0m     \u001b[0mdriver\u001b[0m\u001b[1;33m.\u001b[0m\u001b[0mget\u001b[0m\u001b[1;33m(\u001b[0m\u001b[0mi\u001b[0m\u001b[1;33m)\u001b[0m\u001b[1;33m\u001b[0m\u001b[1;33m\u001b[0m\u001b[0m\n\u001b[1;32m----> 4\u001b[1;33m     \u001b[1;32mreturn\u001b[0m \u001b[0mdriver\u001b[0m\u001b[1;33m.\u001b[0m\u001b[0mfind_element_by_class_name\u001b[0m\u001b[1;33m(\u001b[0m\u001b[1;34m\"lf-pdp-video-preview\"\u001b[0m\u001b[1;33m)\u001b[0m\u001b[1;33m.\u001b[0m\u001b[0mget_attribute\u001b[0m\u001b[1;33m(\u001b[0m\u001b[1;34m\"src\"\u001b[0m\u001b[1;33m)\u001b[0m\u001b[1;33m\u001b[0m\u001b[1;33m\u001b[0m\u001b[0m\n\u001b[0m",
      "\u001b[1;32m~\\anaconda3\\lib\\site-packages\\selenium\\webdriver\\remote\\webdriver.py\u001b[0m in \u001b[0;36mfind_element_by_class_name\u001b[1;34m(self, name)\u001b[0m\n\u001b[0;32m    562\u001b[0m             \u001b[0melement\u001b[0m \u001b[1;33m=\u001b[0m \u001b[0mdriver\u001b[0m\u001b[1;33m.\u001b[0m\u001b[0mfind_element_by_class_name\u001b[0m\u001b[1;33m(\u001b[0m\u001b[1;34m'foo'\u001b[0m\u001b[1;33m)\u001b[0m\u001b[1;33m\u001b[0m\u001b[1;33m\u001b[0m\u001b[0m\n\u001b[0;32m    563\u001b[0m         \"\"\"\n\u001b[1;32m--> 564\u001b[1;33m         \u001b[1;32mreturn\u001b[0m \u001b[0mself\u001b[0m\u001b[1;33m.\u001b[0m\u001b[0mfind_element\u001b[0m\u001b[1;33m(\u001b[0m\u001b[0mby\u001b[0m\u001b[1;33m=\u001b[0m\u001b[0mBy\u001b[0m\u001b[1;33m.\u001b[0m\u001b[0mCLASS_NAME\u001b[0m\u001b[1;33m,\u001b[0m \u001b[0mvalue\u001b[0m\u001b[1;33m=\u001b[0m\u001b[0mname\u001b[0m\u001b[1;33m)\u001b[0m\u001b[1;33m\u001b[0m\u001b[1;33m\u001b[0m\u001b[0m\n\u001b[0m\u001b[0;32m    565\u001b[0m \u001b[1;33m\u001b[0m\u001b[0m\n\u001b[0;32m    566\u001b[0m     \u001b[1;32mdef\u001b[0m \u001b[0mfind_elements_by_class_name\u001b[0m\u001b[1;33m(\u001b[0m\u001b[0mself\u001b[0m\u001b[1;33m,\u001b[0m \u001b[0mname\u001b[0m\u001b[1;33m)\u001b[0m\u001b[1;33m:\u001b[0m\u001b[1;33m\u001b[0m\u001b[1;33m\u001b[0m\u001b[0m\n",
      "\u001b[1;32m~\\anaconda3\\lib\\site-packages\\selenium\\webdriver\\remote\\webdriver.py\u001b[0m in \u001b[0;36mfind_element\u001b[1;34m(self, by, value)\u001b[0m\n\u001b[0;32m    976\u001b[0m         return self.execute(Command.FIND_ELEMENT, {\n\u001b[0;32m    977\u001b[0m             \u001b[1;34m'using'\u001b[0m\u001b[1;33m:\u001b[0m \u001b[0mby\u001b[0m\u001b[1;33m,\u001b[0m\u001b[1;33m\u001b[0m\u001b[1;33m\u001b[0m\u001b[0m\n\u001b[1;32m--> 978\u001b[1;33m             'value': value})['value']\n\u001b[0m\u001b[0;32m    979\u001b[0m \u001b[1;33m\u001b[0m\u001b[0m\n\u001b[0;32m    980\u001b[0m     \u001b[1;32mdef\u001b[0m \u001b[0mfind_elements\u001b[0m\u001b[1;33m(\u001b[0m\u001b[0mself\u001b[0m\u001b[1;33m,\u001b[0m \u001b[0mby\u001b[0m\u001b[1;33m=\u001b[0m\u001b[0mBy\u001b[0m\u001b[1;33m.\u001b[0m\u001b[0mID\u001b[0m\u001b[1;33m,\u001b[0m \u001b[0mvalue\u001b[0m\u001b[1;33m=\u001b[0m\u001b[1;32mNone\u001b[0m\u001b[1;33m)\u001b[0m\u001b[1;33m:\u001b[0m\u001b[1;33m\u001b[0m\u001b[1;33m\u001b[0m\u001b[0m\n",
      "\u001b[1;32m~\\anaconda3\\lib\\site-packages\\selenium\\webdriver\\remote\\webdriver.py\u001b[0m in \u001b[0;36mexecute\u001b[1;34m(self, driver_command, params)\u001b[0m\n\u001b[0;32m    319\u001b[0m         \u001b[0mresponse\u001b[0m \u001b[1;33m=\u001b[0m \u001b[0mself\u001b[0m\u001b[1;33m.\u001b[0m\u001b[0mcommand_executor\u001b[0m\u001b[1;33m.\u001b[0m\u001b[0mexecute\u001b[0m\u001b[1;33m(\u001b[0m\u001b[0mdriver_command\u001b[0m\u001b[1;33m,\u001b[0m \u001b[0mparams\u001b[0m\u001b[1;33m)\u001b[0m\u001b[1;33m\u001b[0m\u001b[1;33m\u001b[0m\u001b[0m\n\u001b[0;32m    320\u001b[0m         \u001b[1;32mif\u001b[0m \u001b[0mresponse\u001b[0m\u001b[1;33m:\u001b[0m\u001b[1;33m\u001b[0m\u001b[1;33m\u001b[0m\u001b[0m\n\u001b[1;32m--> 321\u001b[1;33m             \u001b[0mself\u001b[0m\u001b[1;33m.\u001b[0m\u001b[0merror_handler\u001b[0m\u001b[1;33m.\u001b[0m\u001b[0mcheck_response\u001b[0m\u001b[1;33m(\u001b[0m\u001b[0mresponse\u001b[0m\u001b[1;33m)\u001b[0m\u001b[1;33m\u001b[0m\u001b[1;33m\u001b[0m\u001b[0m\n\u001b[0m\u001b[0;32m    322\u001b[0m             response['value'] = self._unwrap_value(\n\u001b[0;32m    323\u001b[0m                 response.get('value', None))\n",
      "\u001b[1;32m~\\anaconda3\\lib\\site-packages\\selenium\\webdriver\\remote\\errorhandler.py\u001b[0m in \u001b[0;36mcheck_response\u001b[1;34m(self, response)\u001b[0m\n\u001b[0;32m    240\u001b[0m                 \u001b[0malert_text\u001b[0m \u001b[1;33m=\u001b[0m \u001b[0mvalue\u001b[0m\u001b[1;33m[\u001b[0m\u001b[1;34m'alert'\u001b[0m\u001b[1;33m]\u001b[0m\u001b[1;33m.\u001b[0m\u001b[0mget\u001b[0m\u001b[1;33m(\u001b[0m\u001b[1;34m'text'\u001b[0m\u001b[1;33m)\u001b[0m\u001b[1;33m\u001b[0m\u001b[1;33m\u001b[0m\u001b[0m\n\u001b[0;32m    241\u001b[0m             \u001b[1;32mraise\u001b[0m \u001b[0mexception_class\u001b[0m\u001b[1;33m(\u001b[0m\u001b[0mmessage\u001b[0m\u001b[1;33m,\u001b[0m \u001b[0mscreen\u001b[0m\u001b[1;33m,\u001b[0m \u001b[0mstacktrace\u001b[0m\u001b[1;33m,\u001b[0m \u001b[0malert_text\u001b[0m\u001b[1;33m)\u001b[0m\u001b[1;33m\u001b[0m\u001b[1;33m\u001b[0m\u001b[0m\n\u001b[1;32m--> 242\u001b[1;33m         \u001b[1;32mraise\u001b[0m \u001b[0mexception_class\u001b[0m\u001b[1;33m(\u001b[0m\u001b[0mmessage\u001b[0m\u001b[1;33m,\u001b[0m \u001b[0mscreen\u001b[0m\u001b[1;33m,\u001b[0m \u001b[0mstacktrace\u001b[0m\u001b[1;33m)\u001b[0m\u001b[1;33m\u001b[0m\u001b[1;33m\u001b[0m\u001b[0m\n\u001b[0m\u001b[0;32m    243\u001b[0m \u001b[1;33m\u001b[0m\u001b[0m\n\u001b[0;32m    244\u001b[0m     \u001b[1;32mdef\u001b[0m \u001b[0m_value_or_default\u001b[0m\u001b[1;33m(\u001b[0m\u001b[0mself\u001b[0m\u001b[1;33m,\u001b[0m \u001b[0mobj\u001b[0m\u001b[1;33m,\u001b[0m \u001b[0mkey\u001b[0m\u001b[1;33m,\u001b[0m \u001b[0mdefault\u001b[0m\u001b[1;33m)\u001b[0m\u001b[1;33m:\u001b[0m\u001b[1;33m\u001b[0m\u001b[1;33m\u001b[0m\u001b[0m\n",
      "\u001b[1;31mNoSuchElementException\u001b[0m: Message: no such element: Unable to locate element: {\"method\":\"css selector\",\"selector\":\".lf-pdp-video-preview\"}\n  (Session info: chrome=93.0.4577.82)\n"
     ]
    }
   ],
   "source": [
    "#cover_image\n",
    "res=[]\n",
    "for i in a:\n",
    "    if i in nope:\n",
    "        continue\n",
    "    res.append(cover_image(i))\n",
    "for i in range(3):\n",
    "    res.append(\"\")\n",
    "df['cover_image']=res"
   ]
  },
  {
   "cell_type": "code",
   "execution_count": 116,
   "id": "c7654f1c",
   "metadata": {},
   "outputs": [],
   "source": [
    "#delivery_method\n",
    "res=[]\n",
    "for i in a:\n",
    "    if i in nope:\n",
    "        continue\n",
    "    res.append(deli(i))\n",
    "for i in range(3):\n",
    "    res.append(\"\")\n",
    "df['delivery_method']=res"
   ]
  },
  {
   "cell_type": "code",
   "execution_count": 117,
   "id": "15371e5f",
   "metadata": {},
   "outputs": [],
   "source": [
    "#instruction_type\n",
    "res=[]\n",
    "for i in a:\n",
    "    if i in nope:\n",
    "        continue\n",
    "    res.append(type_(i))\n",
    "for i in range(3):\n",
    "    res.append(\"\")\n",
    "df['instruction_type']=res"
   ]
  },
  {
   "cell_type": "code",
   "execution_count": 147,
   "id": "3678107b",
   "metadata": {},
   "outputs": [],
   "source": [
    "#content\n",
    "res=[]\n",
    "for i in a:\n",
    "    if i in nope:\n",
    "        continue\n",
    "    res.append(content(i))\n",
    "for i in range(3):\n",
    "    res.append(\"\")\n",
    "df['content']=res"
   ]
  },
  {
   "cell_type": "code",
   "execution_count": 158,
   "id": "ff6e92f3",
   "metadata": {},
   "outputs": [],
   "source": [
    "#what_will_learn\n",
    "res=[]\n",
    "for i in a:\n",
    "    if i in nope:\n",
    "        continue\n",
    "    res.append(what(i))\n",
    "for i in range(3):\n",
    "    res.append(\"\")\n",
    "df['what_will_learn']=res"
   ]
  },
  {
   "cell_type": "code",
   "execution_count": 159,
   "id": "c3af3ddd",
   "metadata": {},
   "outputs": [],
   "source": [
    "#target_students\n",
    "res=[]\n",
    "for i in a:\n",
    "    if i in nope:\n",
    "        continue\n",
    "    res.append(who(i))\n",
    "for i in range(3):\n",
    "    res.append(\"\")\n",
    "df['target_students']=res"
   ]
  },
  {
   "cell_type": "code",
   "execution_count": 162,
   "id": "76637705",
   "metadata": {},
   "outputs": [],
   "source": [
    "#level\n",
    "res=[]\n",
    "for i in a:\n",
    "    if i in nope:\n",
    "        continue\n",
    "    res.append(level(i))\n",
    "for i in range(3):\n",
    "    res.append(\"\")\n",
    "df['level']=res"
   ]
  },
  {
   "cell_type": "code",
   "execution_count": 155,
   "id": "34bf58a7",
   "metadata": {},
   "outputs": [],
   "source": [
    "#languages\n",
    "res=[]\n",
    "for i in a:\n",
    "    if i in nope:\n",
    "        continue\n",
    "    res.append(\"English\")\n",
    "for i in range(3):\n",
    "    res.append(\"\")\n",
    "df['languages']=res"
   ]
  },
  {
   "cell_type": "code",
   "execution_count": 163,
   "id": "321a8532",
   "metadata": {},
   "outputs": [],
   "source": [
    "#short_description\n",
    "res=[]\n",
    "for i in a:\n",
    "    if i in nope:\n",
    "        continue\n",
    "    res.append(desc(i))\n",
    "for i in range(3):\n",
    "    res.append(\"\")\n",
    "df['short_description']=res"
   ]
  },
  {
   "cell_type": "code",
   "execution_count": 154,
   "id": "4b167e50",
   "metadata": {},
   "outputs": [],
   "source": [
    "#subtitles\n",
    "res=[]\n",
    "for i in a:\n",
    "    if i in nope:\n",
    "        continue\n",
    "    res.append(\"English\")\n",
    "for i in range(3):\n",
    "    res.append(\"\")\n",
    "df['subtitle_languages']=res"
   ]
  },
  {
   "cell_type": "code",
   "execution_count": 153,
   "id": "03e1ddb4",
   "metadata": {},
   "outputs": [],
   "source": [
    "#availabilities\n",
    "res=[]\n",
    "for i in a:\n",
    "    if i in nope:\n",
    "        continue\n",
    "    res.append(\"Limited Access\")\n",
    "for i in range(3):\n",
    "    res.append(\"\")\n",
    "df['availabilities']=res"
   ]
  },
  {
   "cell_type": "code",
   "execution_count": 166,
   "id": "3f91568d",
   "metadata": {},
   "outputs": [],
   "source": [
    "#assessment_content\n",
    "res=[]\n",
    "for i in a:\n",
    "    if i in nope:\n",
    "        continue\n",
    "    res.append(assess(i))\n",
    "for i in range(3):\n",
    "    res.append(\"\")\n",
    "df['assessment_content']=res"
   ]
  },
  {
   "cell_type": "code",
   "execution_count": 167,
   "id": "94b3b214",
   "metadata": {},
   "outputs": [],
   "source": [
    "#live_class\n",
    "res=[]\n",
    "for i in a:\n",
    "    if i in nope:\n",
    "        continue\n",
    "    res.append(live(i))\n",
    "for i in range(3):\n",
    "    res.append(\"\")\n",
    "df['live_class']=res"
   ]
  },
  {
   "cell_type": "code",
   "execution_count": 157,
   "id": "8da34992",
   "metadata": {},
   "outputs": [],
   "source": [
    "#Display Price\n",
    "res=[]\n",
    "for i in a:\n",
    "    if i in nope:\n",
    "        continue\n",
    "    res.append(\"True\")\n",
    "for i in range(3):\n",
    "    res.append(\"\")\n",
    "df['Display Price']=res"
   ]
  },
  {
   "cell_type": "code",
   "execution_count": 156,
   "id": "cdf14c56",
   "metadata": {},
   "outputs": [],
   "source": [
    "#currency\n",
    "res=[]\n",
    "for i in a:\n",
    "    if i in nope:\n",
    "        continue\n",
    "    res.append(\"USD\")\n",
    "for i in range(3):\n",
    "    res.append(\"\")\n",
    "df['currency']=res"
   ]
  },
  {
   "cell_type": "code",
   "execution_count": 191,
   "id": "514ec9c0",
   "metadata": {},
   "outputs": [
    {
     "ename": "ValueError",
     "evalue": "Length of values (134) does not match length of index (137)",
     "output_type": "error",
     "traceback": [
      "\u001b[1;31m---------------------------------------------------------------------------\u001b[0m",
      "\u001b[1;31mValueError\u001b[0m                                Traceback (most recent call last)",
      "\u001b[1;32m<ipython-input-191-a3c9a8ccb43b>\u001b[0m in \u001b[0;36m<module>\u001b[1;34m\u001b[0m\n\u001b[0;32m     19\u001b[0m     \u001b[0mres\u001b[0m\u001b[1;33m.\u001b[0m\u001b[0mappend\u001b[0m\u001b[1;33m(\u001b[0m\u001b[1;34m\"\"\u001b[0m\u001b[1;33m)\u001b[0m\u001b[1;33m\u001b[0m\u001b[1;33m\u001b[0m\u001b[0m\n\u001b[0;32m     20\u001b[0m \u001b[0mdf\u001b[0m\u001b[1;33m[\u001b[0m\u001b[1;34m'pricing_type'\u001b[0m\u001b[1;33m]\u001b[0m\u001b[1;33m=\u001b[0m\u001b[0mres\u001b[0m\u001b[1;33m\u001b[0m\u001b[1;33m\u001b[0m\u001b[0m\n\u001b[1;32m---> 21\u001b[1;33m \u001b[0mdf\u001b[0m\u001b[1;33m[\u001b[0m\u001b[1;34m'regular_price'\u001b[0m\u001b[1;33m]\u001b[0m\u001b[1;33m=\u001b[0m\u001b[0mres2\u001b[0m\u001b[1;33m\u001b[0m\u001b[1;33m\u001b[0m\u001b[0m\n\u001b[0m\u001b[0;32m     22\u001b[0m \u001b[0mdf\u001b[0m\u001b[1;33m[\u001b[0m\u001b[1;34m'sale_price'\u001b[0m\u001b[1;33m]\u001b[0m\u001b[1;33m=\u001b[0m\u001b[0mres3\u001b[0m\u001b[1;33m\u001b[0m\u001b[1;33m\u001b[0m\u001b[0m\n",
      "\u001b[1;32m~\\anaconda3\\lib\\site-packages\\pandas\\core\\frame.py\u001b[0m in \u001b[0;36m__setitem__\u001b[1;34m(self, key, value)\u001b[0m\n\u001b[0;32m   3605\u001b[0m         \u001b[1;32melse\u001b[0m\u001b[1;33m:\u001b[0m\u001b[1;33m\u001b[0m\u001b[1;33m\u001b[0m\u001b[0m\n\u001b[0;32m   3606\u001b[0m             \u001b[1;31m# set column\u001b[0m\u001b[1;33m\u001b[0m\u001b[1;33m\u001b[0m\u001b[1;33m\u001b[0m\u001b[0m\n\u001b[1;32m-> 3607\u001b[1;33m             \u001b[0mself\u001b[0m\u001b[1;33m.\u001b[0m\u001b[0m_set_item\u001b[0m\u001b[1;33m(\u001b[0m\u001b[0mkey\u001b[0m\u001b[1;33m,\u001b[0m \u001b[0mvalue\u001b[0m\u001b[1;33m)\u001b[0m\u001b[1;33m\u001b[0m\u001b[1;33m\u001b[0m\u001b[0m\n\u001b[0m\u001b[0;32m   3608\u001b[0m \u001b[1;33m\u001b[0m\u001b[0m\n\u001b[0;32m   3609\u001b[0m     \u001b[1;32mdef\u001b[0m \u001b[0m_setitem_slice\u001b[0m\u001b[1;33m(\u001b[0m\u001b[0mself\u001b[0m\u001b[1;33m,\u001b[0m \u001b[0mkey\u001b[0m\u001b[1;33m:\u001b[0m \u001b[0mslice\u001b[0m\u001b[1;33m,\u001b[0m \u001b[0mvalue\u001b[0m\u001b[1;33m)\u001b[0m\u001b[1;33m:\u001b[0m\u001b[1;33m\u001b[0m\u001b[1;33m\u001b[0m\u001b[0m\n",
      "\u001b[1;32m~\\anaconda3\\lib\\site-packages\\pandas\\core\\frame.py\u001b[0m in \u001b[0;36m_set_item\u001b[1;34m(self, key, value)\u001b[0m\n\u001b[0;32m   3777\u001b[0m         \u001b[0mensure\u001b[0m \u001b[0mhomogeneity\u001b[0m\u001b[1;33m.\u001b[0m\u001b[1;33m\u001b[0m\u001b[1;33m\u001b[0m\u001b[0m\n\u001b[0;32m   3778\u001b[0m         \"\"\"\n\u001b[1;32m-> 3779\u001b[1;33m         \u001b[0mvalue\u001b[0m \u001b[1;33m=\u001b[0m \u001b[0mself\u001b[0m\u001b[1;33m.\u001b[0m\u001b[0m_sanitize_column\u001b[0m\u001b[1;33m(\u001b[0m\u001b[0mvalue\u001b[0m\u001b[1;33m)\u001b[0m\u001b[1;33m\u001b[0m\u001b[1;33m\u001b[0m\u001b[0m\n\u001b[0m\u001b[0;32m   3780\u001b[0m \u001b[1;33m\u001b[0m\u001b[0m\n\u001b[0;32m   3781\u001b[0m         if (\n",
      "\u001b[1;32m~\\anaconda3\\lib\\site-packages\\pandas\\core\\frame.py\u001b[0m in \u001b[0;36m_sanitize_column\u001b[1;34m(self, value)\u001b[0m\n\u001b[0;32m   4502\u001b[0m \u001b[1;33m\u001b[0m\u001b[0m\n\u001b[0;32m   4503\u001b[0m         \u001b[1;32mif\u001b[0m \u001b[0mis_list_like\u001b[0m\u001b[1;33m(\u001b[0m\u001b[0mvalue\u001b[0m\u001b[1;33m)\u001b[0m\u001b[1;33m:\u001b[0m\u001b[1;33m\u001b[0m\u001b[1;33m\u001b[0m\u001b[0m\n\u001b[1;32m-> 4504\u001b[1;33m             \u001b[0mcom\u001b[0m\u001b[1;33m.\u001b[0m\u001b[0mrequire_length_match\u001b[0m\u001b[1;33m(\u001b[0m\u001b[0mvalue\u001b[0m\u001b[1;33m,\u001b[0m \u001b[0mself\u001b[0m\u001b[1;33m.\u001b[0m\u001b[0mindex\u001b[0m\u001b[1;33m)\u001b[0m\u001b[1;33m\u001b[0m\u001b[1;33m\u001b[0m\u001b[0m\n\u001b[0m\u001b[0;32m   4505\u001b[0m         \u001b[1;32mreturn\u001b[0m \u001b[0msanitize_array\u001b[0m\u001b[1;33m(\u001b[0m\u001b[0mvalue\u001b[0m\u001b[1;33m,\u001b[0m \u001b[0mself\u001b[0m\u001b[1;33m.\u001b[0m\u001b[0mindex\u001b[0m\u001b[1;33m,\u001b[0m \u001b[0mcopy\u001b[0m\u001b[1;33m=\u001b[0m\u001b[1;32mTrue\u001b[0m\u001b[1;33m,\u001b[0m \u001b[0mallow_2d\u001b[0m\u001b[1;33m=\u001b[0m\u001b[1;32mTrue\u001b[0m\u001b[1;33m)\u001b[0m\u001b[1;33m\u001b[0m\u001b[1;33m\u001b[0m\u001b[0m\n\u001b[0;32m   4506\u001b[0m \u001b[1;33m\u001b[0m\u001b[0m\n",
      "\u001b[1;32m~\\anaconda3\\lib\\site-packages\\pandas\\core\\common.py\u001b[0m in \u001b[0;36mrequire_length_match\u001b[1;34m(data, index)\u001b[0m\n\u001b[0;32m    526\u001b[0m     \u001b[1;32mif\u001b[0m \u001b[0mlen\u001b[0m\u001b[1;33m(\u001b[0m\u001b[0mdata\u001b[0m\u001b[1;33m)\u001b[0m \u001b[1;33m!=\u001b[0m \u001b[0mlen\u001b[0m\u001b[1;33m(\u001b[0m\u001b[0mindex\u001b[0m\u001b[1;33m)\u001b[0m\u001b[1;33m:\u001b[0m\u001b[1;33m\u001b[0m\u001b[1;33m\u001b[0m\u001b[0m\n\u001b[0;32m    527\u001b[0m         raise ValueError(\n\u001b[1;32m--> 528\u001b[1;33m             \u001b[1;34m\"Length of values \"\u001b[0m\u001b[1;33m\u001b[0m\u001b[1;33m\u001b[0m\u001b[0m\n\u001b[0m\u001b[0;32m    529\u001b[0m             \u001b[1;34mf\"({len(data)}) \"\u001b[0m\u001b[1;33m\u001b[0m\u001b[1;33m\u001b[0m\u001b[0m\n\u001b[0;32m    530\u001b[0m             \u001b[1;34m\"does not match length of index \"\u001b[0m\u001b[1;33m\u001b[0m\u001b[1;33m\u001b[0m\u001b[0m\n",
      "\u001b[1;31mValueError\u001b[0m: Length of values (134) does not match length of index (137)"
     ]
    }
   ],
   "source": [
    "#pricing_type\n",
    "res=[]\n",
    "res2=[]\n",
    "res3=[]\n",
    "for i in a:\n",
    "    if i in nope:\n",
    "        continue\n",
    "    a=price(i)\n",
    "    try:\n",
    "        if int(a[-1])!=0:\n",
    "            res.append(\"Paid\")\n",
    "        else:\n",
    "            res.append(\"Free\")\n",
    "    except:\n",
    "        res.append(\"Paid\")\n",
    "    res2.append(a[0])\n",
    "    res3.append(a[-1])\n",
    "for i in range(3):\n",
    "    res.append(\"\")\n",
    "df['pricing_type']=res\n",
    "df['regular_price']=res2\n",
    "df['sale_price']=res3"
   ]
  },
  {
   "cell_type": "code",
   "execution_count": 192,
   "id": "ea8ad30a",
   "metadata": {},
   "outputs": [],
   "source": [
    "for i in range(3):\n",
    "    res2.append(\"\")\n",
    "for i in range(3):\n",
    "    res3.append(\"\")\n",
    "df['regular_price']=res2\n",
    "df['sale_price']=res3"
   ]
  },
  {
   "cell_type": "code",
   "execution_count": 173,
   "id": "8e596ecb",
   "metadata": {},
   "outputs": [
    {
     "name": "stdout",
     "output_type": "stream",
     "text": [
      "$299\n"
     ]
    }
   ],
   "source": [
    "k=driver.find_elements_by_class_name(\"lf_pdp_fundamentals-buy-body-card-info-price\")[0].text\n",
    "print(k)"
   ]
  },
  {
   "cell_type": "code",
   "execution_count": 135,
   "id": "02e1ade0",
   "metadata": {},
   "outputs": [],
   "source": [
    "res=[]\n",
    "ress=[]\n",
    "res22=[]\n",
    "res2=[]\n",
    "for i in a:\n",
    "    a=video_content(i)\n",
    "    if '-' in a[0]:\n",
    "        a[0]=a[0].split('-')[-1]\n",
    "    res.append(a[0])\n",
    "    ress.append(a[-1])\n",
    "    j=(duration(i))\n",
    "    res2.append(j[0])\n",
    "    res22.append(j[-1])\n",
    "df['total_duration']=res2\n",
    "df['total_duration_unit']=res22\n",
    "df['total_video_content']=res\n",
    "df['total_video_content_unit']=ress"
   ]
  },
  {
   "cell_type": "code",
   "execution_count": 56,
   "id": "12fa476f",
   "metadata": {},
   "outputs": [],
   "source": [
    "def live(i):\n",
    "    driver.get(i)\n",
    "    try:\n",
    "        if 'Live' in driver.find_element_by_class_name(\"lf_pdp_fundamentals-includes-content\").text.split(\"\\n\")[0]:\n",
    "            return 'True'\n",
    "        return 'False'\n",
    "    except:\n",
    "        return 'False'"
   ]
  },
  {
   "cell_type": "code",
   "execution_count": 141,
   "id": "805f7f8d",
   "metadata": {},
   "outputs": [
    {
     "data": {
      "text/plain": [
       "'$375'"
      ]
     },
     "execution_count": 141,
     "metadata": {},
     "output_type": "execute_result"
    }
   ],
   "source": [
    "#lf_pdp_fundamentals-buy-body-card-info-price\n",
    "driver.get(\"https://training.linuxfoundation.org/certification/certified-hyperledger-fabric-developer/\")\n",
    "driver.find_element_by_class_name(\"lf_pdp_fundamentals-buy-body-card-info-price\").text"
   ]
  },
  {
   "cell_type": "code",
   "execution_count": 69,
   "id": "5406ae93",
   "metadata": {},
   "outputs": [],
   "source": [
    "a.extend((\"\",\"\"))"
   ]
  },
  {
   "cell_type": "code",
   "execution_count": null,
   "id": "0bf39d8b",
   "metadata": {},
   "outputs": [],
   "source": [
    "print(len(a))"
   ]
  },
  {
   "cell_type": "code",
   "execution_count": 193,
   "id": "4a85954b",
   "metadata": {},
   "outputs": [],
   "source": [
    "df.to_excel(\"out.xlsx\")"
   ]
  },
  {
   "cell_type": "code",
   "execution_count": null,
   "id": "faef7396",
   "metadata": {},
   "outputs": [],
   "source": []
  }
 ],
 "metadata": {
  "kernelspec": {
   "display_name": "Python 3",
   "language": "python",
   "name": "python3"
  },
  "language_info": {
   "codemirror_mode": {
    "name": "ipython",
    "version": 3
   },
   "file_extension": ".py",
   "mimetype": "text/x-python",
   "name": "python",
   "nbconvert_exporter": "python",
   "pygments_lexer": "ipython3",
   "version": "3.7.6"
  }
 },
 "nbformat": 4,
 "nbformat_minor": 5
}
