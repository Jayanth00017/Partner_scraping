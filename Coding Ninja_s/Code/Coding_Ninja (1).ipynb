{
  "nbformat": 4,
  "nbformat_minor": 0,
  "metadata": {
    "colab": {
      "name": "Coding Ninja.ipynb",
      "provenance": [],
      "collapsed_sections": []
    },
    "kernelspec": {
      "name": "python3",
      "display_name": "Python 3"
    },
    "language_info": {
      "name": "python"
    }
  },
  "cells": [
    {
      "cell_type": "code",
      "metadata": {
        "colab": {
          "base_uri": "https://localhost:8080/"
        },
        "id": "3s2tf6CXuTVw",
        "outputId": "96fe2ba9-0a51-433e-cb01-489f9ed0e5aa"
      },
      "source": [
        "!pip install requests\n",
        "!pip install bs4\n",
        "!pip install html5lib\n",
        "!pip install kora -q"
      ],
      "execution_count": 1,
      "outputs": [
        {
          "output_type": "stream",
          "name": "stdout",
          "text": [
            "Requirement already satisfied: requests in /usr/local/lib/python3.7/dist-packages (2.23.0)\n",
            "Requirement already satisfied: idna<3,>=2.5 in /usr/local/lib/python3.7/dist-packages (from requests) (2.10)\n",
            "Requirement already satisfied: chardet<4,>=3.0.2 in /usr/local/lib/python3.7/dist-packages (from requests) (3.0.4)\n",
            "Requirement already satisfied: certifi>=2017.4.17 in /usr/local/lib/python3.7/dist-packages (from requests) (2021.5.30)\n",
            "Requirement already satisfied: urllib3!=1.25.0,!=1.25.1,<1.26,>=1.21.1 in /usr/local/lib/python3.7/dist-packages (from requests) (1.24.3)\n",
            "Requirement already satisfied: bs4 in /usr/local/lib/python3.7/dist-packages (0.0.1)\n",
            "Requirement already satisfied: beautifulsoup4 in /usr/local/lib/python3.7/dist-packages (from bs4) (4.6.3)\n",
            "Requirement already satisfied: html5lib in /usr/local/lib/python3.7/dist-packages (1.0.1)\n",
            "Requirement already satisfied: webencodings in /usr/local/lib/python3.7/dist-packages (from html5lib) (0.5.1)\n",
            "Requirement already satisfied: six>=1.9 in /usr/local/lib/python3.7/dist-packages (from html5lib) (1.15.0)\n",
            "\u001b[K     |████████████████████████████████| 57 kB 2.9 MB/s \n",
            "\u001b[K     |████████████████████████████████| 56 kB 3.7 MB/s \n",
            "\u001b[?25h"
          ]
        }
      ]
    },
    {
      "cell_type": "code",
      "metadata": {
        "id": "kz73ANj6uY_i"
      },
      "source": [
        "import requests\n",
        "import re\n",
        "from bs4 import BeautifulSoup\n",
        "from kora.selenium import wd"
      ],
      "execution_count": 2,
      "outputs": []
    },
    {
      "cell_type": "code",
      "metadata": {
        "id": "9gvXrpkJugfF"
      },
      "source": [
        "prl = 'https://www.codingninjas.com/courses/java-data-structures-and-algorithms'\n",
        "wd.get(prl)"
      ],
      "execution_count": 3,
      "outputs": []
    },
    {
      "cell_type": "code",
      "metadata": {
        "colab": {
          "base_uri": "https://localhost:8080/"
        },
        "id": "8C8Gp6QsurGz",
        "outputId": "b9aba2a7-a208-47f0-da37-2339e05ed53c"
      },
      "source": [
        "r = requests.get(prl)\n",
        "htmlContent = r.content\n",
        "soup = BeautifulSoup(htmlContent, 'html.parser')\n",
        "title = soup.title\n",
        "print(title.string)"
      ],
      "execution_count": 4,
      "outputs": [
        {
          "output_type": "stream",
          "name": "stdout",
          "text": [
            "Coding Ninjas | Basics of Java with Data Structures and Algorithms\n"
          ]
        }
      ]
    },
    {
      "cell_type": "code",
      "metadata": {
        "colab": {
          "base_uri": "https://localhost:8080/"
        },
        "id": "ZsY2Qvxnu8l6",
        "outputId": "3bc2e015-75e9-4bbb-d8ad-03c14a3a7c2d"
      },
      "source": [
        "content =[]\n",
        "pri=(wd.find_elements_by_class_name(\"m-0\"))\n",
        "for j in pri:\n",
        "        prnt=(j.text.replace(\":\",\"\").replace(\"questions\",\"\").replace(\"\\n\",\"|\"))\n",
        "        res = ''.join([i for i in prnt if not i.isdigit()])\n",
        "        content.append(res)\n",
        "content"
      ],
      "execution_count": 5,
      "outputs": [
        {
          "output_type": "stream",
          "name": "stderr",
          "text": [
            "/usr/local/lib/python3.7/dist-packages/ipykernel_launcher.py:2: DeprecationWarning: find_elements_by_* commands are deprecated. Please use find_elements() instead\n",
            "  \n"
          ]
        },
        {
          "output_type": "execute_result",
          "data": {
            "text/plain": [
              "['.',\n",
              " 'K+',\n",
              " '+',\n",
              " '',\n",
              " '+',\n",
              " 'Select a plan based on your needs',\n",
              " 'Basics of Java',\n",
              " 'DS & Algo only',\n",
              " 'Basics of Java + DS & Algo',\n",
              " 'Basics of Java + DS & Algo',\n",
              " 'With Mock Interviews & Placement Preparation',\n",
              " 'HURRY! Avail the % EARLY BIRD DISCOUNT',\n",
              " 'What our students say about this course?',\n",
              " 'Your Support System',\n",
              " 'Exclusive Placement Assistance',\n",
              " 'Our students are placed at',\n",
              " 'HSBC',\n",
              " 'Software Developer',\n",
              " 'Expedia Group',\n",
              " 'Software Developer',\n",
              " 'Salesforce',\n",
              " 'Software Engineer',\n",
              " 'Samsung R&D Institute',\n",
              " 'Student Trainee',\n",
              " 'Infosys Limited',\n",
              " 'System Engineer',\n",
              " 'Urban Clap',\n",
              " 'Software Development Engineer ',\n",
              " 'Morgan Stanley',\n",
              " 'Software Developer',\n",
              " 'MakeMyTrip',\n",
              " 'Intern',\n",
              " 'JP Morgan',\n",
              " '',\n",
              " 'Amdocs',\n",
              " 'Software Developer',\n",
              " 'Mentor Graphics',\n",
              " 'Software Engineer',\n",
              " 'Introduction to Programming',\n",
              " 'Data Structures & Algorithms',\n",
              " 'Special Features',\n",
              " 'Problem Solving Techniques',\n",
              " 'Object Oriented Programming',\n",
              " 'Linear Data Structures',\n",
              " 'Trees',\n",
              " 'Advanced Data Structures',\n",
              " 'Dynamic Programming']"
            ]
          },
          "metadata": {},
          "execution_count": 5
        }
      ]
    },
    {
      "cell_type": "code",
      "metadata": {
        "colab": {
          "base_uri": "https://localhost:8080/"
        },
        "id": "IRkSBwtGvTbe",
        "outputId": "4dd8d382-1e7f-4ab3-bd75-201103901e71"
      },
      "source": [
        "wrr=[]\n",
        "what_will_learn=soup.find_all('span',class_='feature')\n",
        "for i in what_will_learn:\n",
        "  wrr.append(i.get_text())\n",
        "wrr"
      ],
      "execution_count": 8,
      "outputs": [
        {
          "output_type": "execute_result",
          "data": {
            "text/plain": [
              "['Premium Hirist Account',\n",
              " 'Dedicated Placement Cell with curated job openings',\n",
              " ' Introduction to Programming ',\n",
              " ' Data Structures and Algorithms ']"
            ]
          },
          "metadata": {},
          "execution_count": 8
        }
      ]
    },
    {
      "cell_type": "code",
      "metadata": {
        "colab": {
          "base_uri": "https://localhost:8080/"
        },
        "id": "xBQLMgXUwUCd",
        "outputId": "f26714de-143e-411b-a5eb-61de69f35af2"
      },
      "source": [
        "description = soup.find_all('span',class_='zen-body-2 ng-star-inserted')\n",
        "drr=[]\n",
        "for i in description:\n",
        "  drr.append(i.get_text())\n",
        "\n",
        "drr"
      ],
      "execution_count": 9,
      "outputs": [
        {
          "output_type": "execute_result",
          "data": {
            "text/plain": [
              "['Understand concepts of data structures & algorithms',\n",
              " 'Practice 300 coding problems',\n",
              " 'Form the base for web development, mobile development or machine learning',\n",
              " 'Strong GitHub profile',\n",
              " 'Aptitude tricks and tips',\n",
              " 'Mock Interviews to help prepare you',\n",
              " 'Non-Tech Preparation like Linkedin Profile, How to crack HR round']"
            ]
          },
          "metadata": {},
          "execution_count": 9
        }
      ]
    },
    {
      "cell_type": "code",
      "metadata": {
        "colab": {
          "base_uri": "https://localhost:8080/",
          "height": 35
        },
        "id": "kc0cImxexHwY",
        "outputId": "9a40fd1f-61a4-4483-c542-2ccfd4756b7c"
      },
      "source": [
        "total_dur=soup.find('h5',class_='metric-value zen-heading-5 mb-0 ml-0 mt-0')\n",
        "total_dur.get_text()"
      ],
      "execution_count": 11,
      "outputs": [
        {
          "output_type": "execute_result",
          "data": {
            "application/vnd.google.colaboratory.intrinsic+json": {
              "type": "string"
            },
            "text/plain": [
              "' 2 '"
            ]
          },
          "metadata": {},
          "execution_count": 11
        }
      ]
    },
    {
      "cell_type": "code",
      "metadata": {
        "colab": {
          "base_uri": "https://localhost:8080/",
          "height": 35
        },
        "id": "wahrM5LexcA-",
        "outputId": "4433cef0-7e88-492a-8968-4b63b9f2400a"
      },
      "source": [
        "video_content=soup.find('h5',class_='metric-value zen-heading-5 mb-0 ml-0 mt-0')\n",
        "video_content.next.next.next.next.next.get_text()"
      ],
      "execution_count": 21,
      "outputs": [
        {
          "output_type": "execute_result",
          "data": {
            "application/vnd.google.colaboratory.intrinsic+json": {
              "type": "string"
            },
            "text/plain": [
              "' 15+ Hours'"
            ]
          },
          "metadata": {},
          "execution_count": 21
        }
      ]
    },
    {
      "cell_type": "code",
      "metadata": {
        "colab": {
          "base_uri": "https://localhost:8080/"
        },
        "id": "XU8LbtgHxtSB",
        "outputId": "9ed3fe03-e728-463e-f621-44187f0b8b1a"
      },
      "source": [
        "irr=[]\n",
        "instructor_name=soup.find_all('h4',class_='name-section mt-12 mx-0 mb-0')\n",
        "for i in instructor_name:\n",
        "  irr.append(i.get_text())\n",
        "irr"
      ],
      "execution_count": 23,
      "outputs": [
        {
          "output_type": "execute_result",
          "data": {
            "text/plain": [
              "['Ankush Singla', 'Parikh Jain', 'Manisha Khattar']"
            ]
          },
          "metadata": {},
          "execution_count": 23
        }
      ]
    },
    {
      "cell_type": "code",
      "metadata": {
        "colab": {
          "base_uri": "https://localhost:8080/"
        },
        "id": "YNCJW6vUygjb",
        "outputId": "459107db-a1d2-4172-a32d-1271359f4113"
      },
      "source": [
        "irrd=[]\n",
        "instructor_des=soup.find_all('div',class_='designation-section mt-8')\n",
        "for i in instructor_des:\n",
        "  irrd.append(i.get_text())\n",
        "irrd"
      ],
      "execution_count": 25,
      "outputs": [
        {
          "output_type": "execute_result",
          "data": {
            "text/plain": [
              "['Co-Founder & Instructor',\n",
              " 'Instructor & Founding Member',\n",
              " 'Instructor & Founding Member']"
            ]
          },
          "metadata": {},
          "execution_count": 25
        }
      ]
    },
    {
      "cell_type": "code",
      "metadata": {
        "colab": {
          "base_uri": "https://localhost:8080/"
        },
        "id": "l7zWAbSkzJG8",
        "outputId": "743564ac-d1cb-4885-88a7-1affd1947fb6"
      },
      "source": [
        "irrb=[]\n",
        "instructor_bio=soup.find_all('div',class_='course-name')\n",
        "for i in instructor_bio:\n",
        "  irrb.append(i.get_text())\n",
        "irrb"
      ],
      "execution_count": 28,
      "outputs": [
        {
          "output_type": "execute_result",
          "data": {
            "text/plain": [
              "[' Programming Fundamentals (C++ / Java / Python) ',\n",
              " ' Java Foundation with Data Structures ',\n",
              " ' Java Foundation with Data Structures ']"
            ]
          },
          "metadata": {},
          "execution_count": 28
        }
      ]
    },
    {
      "cell_type": "code",
      "metadata": {
        "id": "jQ-B6sNRy1Af"
      },
      "source": [
        "level ='Beginner'"
      ],
      "execution_count": 27,
      "outputs": []
    },
    {
      "cell_type": "code",
      "metadata": {
        "colab": {
          "base_uri": "https://localhost:8080/"
        },
        "id": "WeH0P0Rny_wc",
        "outputId": "ef340c5f-2e6a-4107-9c72-b5133ede1a8f"
      },
      "source": [
        "rev_name =soup.find_all('h5',class_='zen-heading-5 mb-4 mt-0')\n",
        "rev_name"
      ],
      "execution_count": 29,
      "outputs": [
        {
          "output_type": "execute_result",
          "data": {
            "text/plain": [
              "[<h5 _ngcontent-sc297=\"\" class=\"zen-heading-5 mb-4 mt-0\"> Anupriya Dangi </h5>,\n",
              " <h5 _ngcontent-sc297=\"\" class=\"zen-heading-5 mb-4 mt-0\"> Nitin Shrivastava </h5>,\n",
              " <h5 _ngcontent-sc297=\"\" class=\"zen-heading-5 mb-4 mt-0\"> Shivam Gupta </h5>,\n",
              " <h5 _ngcontent-sc297=\"\" class=\"zen-heading-5 mb-4 mt-0\"> Sparsh Gupta </h5>,\n",
              " <h5 _ngcontent-sc297=\"\" class=\"zen-heading-5 mb-4 mt-0\"> Sonu Tiwari </h5>,\n",
              " <h5 _ngcontent-sc297=\"\" class=\"zen-heading-5 mb-4 mt-0\"> Kartik Mudgal </h5>,\n",
              " <h5 _ngcontent-sc297=\"\" class=\"zen-heading-5 mb-4 mt-0\"> Sanjana Shokeen </h5>,\n",
              " <h5 _ngcontent-sc297=\"\" class=\"zen-heading-5 mb-4 mt-0\"> Mukul Garg </h5>,\n",
              " <h5 _ngcontent-sc297=\"\" class=\"zen-heading-5 mb-4 mt-0\"> Rohan Sahni </h5>,\n",
              " <h5 _ngcontent-sc297=\"\" class=\"zen-heading-5 mb-4 mt-0\"> Aman Pal </h5>,\n",
              " <h5 _ngcontent-sc297=\"\" class=\"zen-heading-5 mb-4 mt-0\"> Savi Chugh </h5>]"
            ]
          },
          "metadata": {},
          "execution_count": 29
        }
      ]
    },
    {
      "cell_type": "code",
      "metadata": {
        "colab": {
          "base_uri": "https://localhost:8080/"
        },
        "id": "bzCLyagJzuV4",
        "outputId": "f2f27efe-c455-402e-ec47-3150b485e292"
      },
      "source": [
        "rrr=[]\n",
        "review=soup.find_all('div',class_='zen-body-2')\n",
        "for i in review:\n",
        "  rrr.append(i.get_text())\n",
        "rrr"
      ],
      "execution_count": 30,
      "outputs": [
        {
          "output_type": "execute_result",
          "data": {
            "text/plain": [
              "[' Average salary for college students ',\n",
              " ' course fees recovered within first year of new job ',\n",
              " ' Average salary for working professionals ',\n",
              " ' course fees recovered within first year of new job* ',\n",
              " ' There is only one advice I want to give you - Enrol in a Coding Ninjas course! They will ensure that you achieve your goals of getting placed in a top company.  ',\n",
              " \" I must say that taking this course was one of my best decision. I was struggling in the coding test during the internship period so I decided to go for this course during the 5th sem and that really helped me in polishing my skills. My tutor was Manisha Ma'am and she explained the topics very well. Overall It was a great learning experience. \\r\\n  \",\n",
              " \" Coding Ninjas helped me to get clarity with the basics of programming. Also, regular assignments and the complete support of Nidhi ma'am made the journey easier.  \",\n",
              " \" Being a student and a TA helped me learn a lot from Coding Ninjas. The course structure and the variety of problems provided here give a true reflection of the actual interview problems and act as a guide to get into one's dream company. It's all about getting clarity in the concepts and visualisation of the problem and its solution, and for that, Coding Ninjas is the best place to be.  \",\n",
              " \" I started coding in the final year of my college mostly for placements and later dived deeper into android development for our start up, which didn't kick off. In May 2018, I was all alone as I passed out of college without a placement in hand so I grabbed the first opportunity that came in my way which was Infosys. I cleared the training in a month and was put into SAP ABAP, which I never liked. It was then when I decided to learn full stack web development since it appeared  the most sought am ... \",\n",
              " ' I am Computer Science graduate from DTU.\\nI did my summer internship in Samsung Research and currently working as a Software Engineer AMTS at Salesforce.\\nThe courses provided by Coding Ninjas were to the point and carefully curated to give beginners a good understanding of the concepts.After completing my course I worked as a teaching assistant at Coding Ninjas which was an amazing experience.The best thing I liked about the courses was immediate TA availability during the day which made the lear ... ',\n",
              " ' Coding ninjas is a must to join kind of institute if one is seeking for good placements and internships. I learnt a lot from manisha mam and arpan sir . As the faculties try to cover all major topics from very basic to advance level .  ',\n",
              " ' My mentor used to clear my silly doubts and point out my errors. It helped me to find the solution and clarify the concept as well. I believe my life would have been different without this course. They helped me secure an internship at MakeMyTrip.  ',\n",
              " ' Once you are clear with all the concepts taught at Coding Ninjas, you will find solving questions on different platforms easy and interesting, which can give your career a great start. I am happy that I took the right decision to join Coding Ninjas  ',\n",
              " ' Java Foundation with Data Structure helped me get a wonderful placement in Amdocs and Machine Learning course helped me build an application on Digital Image Forensics as academics Major Project.\\n \\n Thank You Coding Ninjas for helping me make a great start in my career.  ',\n",
              " \" First of all, I'm extremely thankful to the Coding Ninjas team. Being from an Electrical Engineering background, it would've been very difficult for me to grab a job in Software Development within 5 months but thanks to Coding Ninjas.  \"]"
            ]
          },
          "metadata": {},
          "execution_count": 30
        }
      ]
    },
    {
      "cell_type": "code",
      "metadata": {
        "colab": {
          "base_uri": "https://localhost:8080/",
          "height": 35
        },
        "id": "91cgDvrS0HXf",
        "outputId": "692ad13f-ac9b-4ad9-814a-5f55418c068f"
      },
      "source": [
        "short_desc=soup.find('p',class_='short-sub-heading zen-subtitle-2 ng-star-inserted')\n",
        "short_desc.get_text()"
      ],
      "execution_count": 31,
      "outputs": [
        {
          "output_type": "execute_result",
          "data": {
            "application/vnd.google.colaboratory.intrinsic+json": {
              "type": "string"
            },
            "text/plain": [
              "' This is the course to pick if you are just getting into coding and want to build a strong foundation. Widely used in IT industry. '"
            ]
          },
          "metadata": {},
          "execution_count": 31
        }
      ]
    },
    {
      "cell_type": "code",
      "metadata": {
        "colab": {
          "base_uri": "https://localhost:8080/"
        },
        "id": "bryPlwLg0cNs",
        "outputId": "930ea8af-7707-4dca-bc34-7a3e38ca1a08"
      },
      "source": [
        "price=soup.find_all('div',class_='\"original-price')\n",
        "price"
      ],
      "execution_count": 32,
      "outputs": [
        {
          "output_type": "execute_result",
          "data": {
            "text/plain": [
              "[]"
            ]
          },
          "metadata": {},
          "execution_count": 32
        }
      ]
    },
    {
      "cell_type": "code",
      "metadata": {
        "id": "llvSnZqK0r6C"
      },
      "source": [
        "start_date=soup.find('div',class_='batch-date zen-subtitle-2 mb-8 pt-4 px-4')\n",
        "start_date"
      ],
      "execution_count": 34,
      "outputs": []
    },
    {
      "cell_type": "markdown",
      "metadata": {
        "id": "z4-B_9pA1EMx"
      },
      "source": [
        "Creating Dataset\n"
      ]
    },
    {
      "cell_type": "code",
      "metadata": {
        "id": "5XovjXZR1Foe"
      },
      "source": [
        "import pandas as pd"
      ],
      "execution_count": 35,
      "outputs": []
    },
    {
      "cell_type": "code",
      "metadata": {
        "id": "ipTZULo-1HHl"
      },
      "source": [
        "data = {'url':[prl],\n",
        "        'title': [title.string],\n",
        "        'learn_type':['Certification'],\n",
        "        'topic' : [''],\n",
        "        'what_will_learn':[wrr],\n",
        "        'skills' : [''],\n",
        "        'description' : [drr],\n",
        "        'cover_image' : [''],\n",
        "        'delivery_method' : ['Online'],\n",
        "        'instruction_type' : [''],\n",
        "        'content' : [content],\n",
        "        'prerequisites' : [''],\n",
        "        'target_students' : ['anyone'],\n",
        "        'instructor name' : [irr],\n",
        "        'instructor designation' : [irrd],\n",
        "        'instructor bio' : [irrb],\n",
        "        'instuctor image url' : [''],\n",
        "        'review':[rrr],\n",
        "        'total_duration' : [total_dur.get_text()],\n",
        "        'total_duration_unit' : ['Months'],\n",
        "        'corporate_sponsor name' : [''],\n",
        "        'corporate_sponsor_logo': [''] ,\n",
        "        'recommended_effort_per_week' : [''],\n",
        "        'enrollment_start_date' : [start_date],\n",
        "        'enrollment_end_date' : [''],\n",
        "        'level': [level],\n",
        "        'languages': ['English,Hindi'],\n",
        "        'short_description' : [short_desc.get_text()],\n",
        "        'accessibilities': ['Mobile,Desktop'],\n",
        "        'availabilities' : [''],\n",
        "        'Display Price': [''],\n",
        "        'pricing_type' : ['paid'],\n",
        "        'currency' : ['INR'],\n",
        "        'regular_price':[''],\n",
        "        'additional_price_details':[''],\n",
        "        'sale_price' :[price],\n",
        "        'course_financing_available': [''],\n",
        "        'institute': ['Coding Ninja'],\n",
        "        'partner_course_url':[''],\n",
        "        'international_faculty':['False'],\n",
        "        'personalized_teaching' : [''],\n",
        "        'live_class' : ['False'],\n",
        "        'internship' : ['False'],\n",
        "        'job_assistance' : ['True'],\n",
        "        'learning_mediums': [''],\n",
        "        'capstone_project' : ['False'],\n",
        "        'syllabus':[''],\n",
        "\n",
        "         }"
      ],
      "execution_count": 36,
      "outputs": []
    },
    {
      "cell_type": "code",
      "metadata": {
        "colab": {
          "base_uri": "https://localhost:8080/"
        },
        "id": "P7wV_dcl2FqH",
        "outputId": "caa01533-e8f1-4e59-c430-d48c89c5fedb"
      },
      "source": [
        "df = pd.DataFrame (data, columns = ['url','title','learn_type','topic','what_will_learn','skills','description','cover_image','delivery_method','instruction_type','content','skills_gained','prerequisites',\n",
        "                                    'target_students','instructor name','instructor designation','instructor bio','instuctor image url','review','total_duration',\n",
        "                                    'total_duration_unit','corporate_sponsor name','corporate_sponsor_logo', 'recommended_effort_per_week','enrollment_start_date',\n",
        "                                    'enrollment_end_date','level','languages', 'short_description','accessibilities','availabilities','Display Price','pricing_type'\n",
        "                                    , 'currency','regular_price','additional_price_details','sale_price','course_financing_available','institute','partner_course_url','international_faculty'\n",
        "                                    ,'personalized_teaching','live_class','internship','job_assistance' ,'learning_mediums','capstone_project','syllabus'])\n",
        "print (df)"
      ],
      "execution_count": 37,
      "outputs": [
        {
          "output_type": "stream",
          "name": "stdout",
          "text": [
            "                                                 url  ... syllabus\n",
            "0  https://www.codingninjas.com/courses/java-data...  ...         \n",
            "\n",
            "[1 rows x 48 columns]\n"
          ]
        }
      ]
    },
    {
      "cell_type": "code",
      "metadata": {
        "id": "0_WWx4Uc2GZS"
      },
      "source": [
        "df.to_csv('cn1.csv')"
      ],
      "execution_count": 38,
      "outputs": []
    },
    {
      "cell_type": "code",
      "metadata": {
        "id": "yhhuIfOA2NFs"
      },
      "source": [
        ""
      ],
      "execution_count": null,
      "outputs": []
    }
  ]
}